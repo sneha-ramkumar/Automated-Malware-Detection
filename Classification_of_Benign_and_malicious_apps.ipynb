{
  "nbformat": 4,
  "nbformat_minor": 0,
  "metadata": {
    "colab": {
      "provenance": []
    },
    "kernelspec": {
      "name": "python3",
      "display_name": "Python 3"
    },
    "language_info": {
      "name": "python"
    }
  },
  "cells": [
    {
      "cell_type": "code",
      "execution_count": null,
      "metadata": {
        "colab": {
          "base_uri": "https://localhost:8080/"
        },
        "id": "cBWWTRqoGEUr",
        "outputId": "b037921b-2482-40ac-d10c-440fe65246d6"
      },
      "outputs": [
        {
          "output_type": "stream",
          "name": "stdout",
          "text": [
            "Mounted at /content/drive\n"
          ]
        }
      ],
      "source": [
        "from google.colab import drive\n",
        "import pathlib\n",
        "drive.mount('/content/drive',force_remount=True)"
      ]
    },
    {
      "cell_type": "code",
      "source": [
        "import os\n",
        "import shutil\n",
        "import pandas as pd\n",
        "from sklearn.preprocessing import MultiLabelBinarizer\n",
        "import xml.etree.ElementTree as ET\n",
        "import sklearn.svm\n",
        "import sklearn.cluster\n",
        "import sklearn.linear_model\n",
        "import sklearn.model_selection\n",
        "import sklearn.tree\n",
        "import lightgbm\n",
        "import sklearn.metrics\n",
        "import xgboost\n",
        "from sklearn.decomposition import PCA\n",
        "import matplotlib.pyplot\n",
        "import numpy as np\n",
        "import sklearn.ensemble"
      ],
      "metadata": {
        "id": "kI1aa5QzHCCh"
      },
      "execution_count": null,
      "outputs": []
    },
    {
      "cell_type": "code",
      "source": [
        "seed = 17"
      ],
      "metadata": {
        "id": "3m_gJAoyQBtI"
      },
      "execution_count": null,
      "outputs": []
    },
    {
      "cell_type": "markdown",
      "source": [
        "# Function to calculate the F1-Score, TP, FP, FN, and TN"
      ],
      "metadata": {
        "id": "R-UWL1x3PFHJ"
      }
    },
    {
      "cell_type": "code",
      "source": [
        "def calculatefscore(expected,actual):\n",
        "  TP=0\n",
        "  FP=0\n",
        "  FN=0\n",
        "  TN=0\n",
        "  for i in range(len(expected)):\n",
        "    if actual[i]>=1 and expected[i]==1:\n",
        "      TP=TP+1\n",
        "    elif actual[i]==1 and expected[i]==0:\n",
        "      FP=FP+1\n",
        "    elif actual[i]==0 and expected[i]==1:\n",
        "      FN=FN+1\n",
        "    else:\n",
        "      TN=TN+1\n",
        "    \n",
        "\n",
        "  fscore=2*TP/(2*TP+FP+FN)\n",
        "  print(\"TP: \"+ str(TP))\n",
        "  print(\"FP: \"+ str(FP))\n",
        "  print(\"FN: \"+ str(FN))\n",
        "  print(\"TN: \"+ str(TN))"
      ],
      "metadata": {
        "id": "_TQpqlQpHDZH"
      },
      "execution_count": null,
      "outputs": []
    },
    {
      "cell_type": "markdown",
      "source": [
        "# Data Prepaparation\n",
        "\n",
        "permissionsMapFeat -  Has only permissions as a feature\n",
        "\n",
        "permissionsMapFeat1 - Has permission, receiver as features\n",
        "\n",
        "permissionsMapFeat2 - Has permission, receiver and activity as features"
      ],
      "metadata": {
        "id": "MlDa4gApPWWc"
      }
    },
    {
      "cell_type": "code",
      "source": [
        "malPermissionsMapFeat = pd.DataFrame(columns=['AppName','Permissions','isBenign'])\n",
        "malPermissionsMapFeat1 = pd.DataFrame(columns=['AppName','Permissions','Receiver','isBenign'])\n",
        "malPermissionsMapFeat2 = pd.DataFrame(columns=['AppName','Permissions','Receiver','Activity','isBenign'])\n",
        "\n",
        "\n",
        "mal_dir = \"/content/drive/MyDrive/extractedmanifestmalign\"\n",
        "for fileName in os.listdir(mal_dir):\n",
        "  if fileName == '.DS_Store':\n",
        "    continue\n",
        "  try:\n",
        "    androidManifest = ET.parse(mal_dir+'/'+fileName)\n",
        "  except ET.ParseError:\n",
        "    continue\n",
        "  appName = fileName[:len(fileName)-20]\n",
        "  permissionsList = []\n",
        "  receiverList= []\n",
        "  activityList=[]\n",
        "  for permission in androidManifest.findall('uses-permission'):\n",
        "    permissionsList.append(permission.attrib['{http://schemas.android.com/apk/res/android}name'])\n",
        "  for receiver in androidManifest.findall('application/receiver'):\n",
        "    receiverList.append(receiver.attrib['{http://schemas.android.com/apk/res/android}name'])\n",
        "  for activity in androidManifest.findall('application/activity'):\n",
        "    activityList.append(activity.attrib['{http://schemas.android.com/apk/res/android}name'])\n",
        "  malPermissionsMapFeat.loc[len(malPermissionsMapFeat.index)] = [appName,permissionsList,0]\n",
        "  malPermissionsMapFeat1.loc[len(malPermissionsMapFeat1.index)] = [appName,permissionsList,receiverList,0]\n",
        "  malPermissionsMapFeat2.loc[len(malPermissionsMapFeat2.index)] = [appName,permissionsList,receiverList,activityList,0]\n",
        "\n",
        "benPermissionsMapFeat = pd.DataFrame(columns=['AppName','Permissions','isBenign'])\n",
        "benPermissionsMapFeat1 = pd.DataFrame(columns=['AppName','Permissions','Receiver','isBenign'])\n",
        "benPermissionsMapFeat2 = pd.DataFrame(columns=['AppName','Permissions','Receiver','Activity','isBenign'])\n",
        "\n",
        "ben_dir = \"/content/drive/My Drive/extractedmanifestbenign\"\n",
        "for fileName in os.listdir(ben_dir):\n",
        "  if fileName == '.DS_Store':\n",
        "    continue\n",
        "  try:\n",
        "    androidManifest = ET.parse(ben_dir+'/'+fileName)\n",
        "  except ET.ParseError:\n",
        "    continue\n",
        "  appName = fileName[:len(fileName)-20]\n",
        "  permissionsList = []\n",
        "  receiverList= []\n",
        "  activityList=[]\n",
        "  for permission in androidManifest.findall('uses-permission'):\n",
        "    permissionsList.append(permission.attrib['{http://schemas.android.com/apk/res/android}name'])\n",
        "  for receiver in androidManifest.findall('application/receiver'):\n",
        "    receiverList.append(receiver.attrib['{http://schemas.android.com/apk/res/android}name'])\n",
        "  for activity in androidManifest.findall('application/activity'):\n",
        "    activityList.append(activity.attrib['{http://schemas.android.com/apk/res/android}name'])\n",
        "  benPermissionsMapFeat.loc[len(benPermissionsMapFeat.index)] = [appName,permissionsList,1]\n",
        "  benPermissionsMapFeat1.loc[len(benPermissionsMapFeat1.index)] = [appName,permissionsList,receiverList,1]\n",
        "  benPermissionsMapFeat2.loc[len(benPermissionsMapFeat2.index)] = [appName,permissionsList,receiverList,activityList,1]\n",
        "\n",
        "permissionsMapFeat=pd.concat([benPermissionsMapFeat,malPermissionsMapFeat],ignore_index=True)\n",
        "permissionsMapFeat1=pd.concat([benPermissionsMapFeat1,malPermissionsMapFeat1],ignore_index=True)\n",
        "permissionsMapFeat2=pd.concat([benPermissionsMapFeat2,malPermissionsMapFeat2],ignore_index=True)\n",
        "\n",
        "\n",
        "multiLableBinarizer = MultiLabelBinarizer(sparse_output=True)\n",
        "permissionsMapFeat = permissionsMapFeat.join(pd.DataFrame.sparse.from_spmatrix(multiLableBinarizer.fit_transform(permissionsMapFeat.pop('Permissions')),index=permissionsMapFeat.index,columns=multiLableBinarizer.classes_))\n",
        "permissionsMapFeat = permissionsMapFeat.drop('AppName', axis=1)\n",
        "isBenFeat=permissionsMapFeat.isBenign\n",
        "permissionsMapFeat = permissionsMapFeat.drop('isBenign', axis=1)\n",
        "permissionsMapFeat=permissionsMapFeat.to_numpy()\n",
        "isBenFeat=isBenFeat.to_numpy()\n",
        "\n",
        "multiLableBinarizer = MultiLabelBinarizer(sparse_output=True)\n",
        "permissionsMapFeat1 = permissionsMapFeat1.join(pd.DataFrame.sparse.from_spmatrix(multiLableBinarizer.fit_transform(permissionsMapFeat1.pop('Permissions')),index=permissionsMapFeat1.index,columns=multiLableBinarizer.classes_))\n",
        "permissionsMapFeat1 = permissionsMapFeat1.join(pd.DataFrame.sparse.from_spmatrix(multiLableBinarizer.fit_transform(permissionsMapFeat1.pop('Receiver')),index=permissionsMapFeat1.index,columns=multiLableBinarizer.classes_))\n",
        "permissionsMapFeat1 = permissionsMapFeat1.drop('AppName', axis=1)\n",
        "isBenFeat1=permissionsMapFeat1.isBenign\n",
        "permissionsMapFeat1 = permissionsMapFeat1.drop('isBenign', axis=1)\n",
        "permissionsMapFeat1=permissionsMapFeat1.to_numpy()\n",
        "isBenFeat1=isBenFeat1.to_numpy()\n",
        "print(permissionsMapFeat2)\n",
        "multiLableBinarizer = MultiLabelBinarizer(sparse_output=True)\n",
        "permissionsMapFeat2 = permissionsMapFeat2.join(pd.DataFrame.sparse.from_spmatrix(multiLableBinarizer.fit_transform(permissionsMapFeat2.pop('Permissions')),index=permissionsMapFeat2.index,columns=multiLableBinarizer.classes_))\n",
        "permissionsMapFeat2 = permissionsMapFeat2.join(pd.DataFrame.sparse.from_spmatrix(multiLableBinarizer.fit_transform(permissionsMapFeat2.pop('Receiver')),index=permissionsMapFeat2.index,columns=multiLableBinarizer.classes_))\n",
        "permissionsMapFeat2 = permissionsMapFeat2.join(pd.DataFrame.sparse.from_spmatrix(multiLableBinarizer.fit_transform(permissionsMapFeat2.pop('Activity')),index=permissionsMapFeat2.index,columns=multiLableBinarizer.classes_))\n",
        "print(permissionsMapFeat2)\n",
        "permissionsMapFeat2 = permissionsMapFeat2.drop('AppName', axis=1)\n",
        "isBenFeat2=permissionsMapFeat2.isBenign\n",
        "permissionsMapFeat2 = permissionsMapFeat2.drop('isBenign', axis=1)\n",
        "permissionsMapFeat2=permissionsMapFeat2.to_numpy()\n",
        "isBenFeat2=isBenFeat2.to_numpy()\n"
      ],
      "metadata": {
        "colab": {
          "base_uri": "https://localhost:8080/"
        },
        "id": "4YVaq1McHNP2",
        "outputId": "42c810c2-94b7-43c3-a647-e7629ca310c9"
      },
      "execution_count": null,
      "outputs": [
        {
          "output_type": "stream",
          "name": "stdout",
          "text": [
            "                              AppName  \\\n",
            "0                 com.nytimes.android   \n",
            "1               com.mw.rouletteroyale   \n",
            "2       com.musixmatch.android.lyrify   \n",
            "3                com.oldwang1.darts-2   \n",
            "4      com.nb.fingerprint.lock.free-7   \n",
            "..                                ...   \n",
            "967  6ecee7f961699cd7f0588af67fcb1874   \n",
            "968  2769efb3895a32b89b525c4b57e0902f   \n",
            "969  1ae249fc48db24293e4068c05be0e3ac   \n",
            "970  0f3cba835e54a93153786dce86ee22bd   \n",
            "971  5312cc7bedaefc5b7ed16b73e1fae113   \n",
            "\n",
            "                                           Permissions  \\\n",
            "0    [com.nytimes.android.permission.C2D_MESSAGE, a...   \n",
            "1    [android.permission.INTERNET, android.permissi...   \n",
            "2    [com.musixmatch.android.lyrify.permission.C2D_...   \n",
            "3    [android.permission.INTERNET, android.permissi...   \n",
            "4    [android.permission.INTERNET, android.permissi...   \n",
            "..                                                 ...   \n",
            "967  [android.permission.INTERNET, android.permissi...   \n",
            "968  [android.permission.INTERNET, android.permissi...   \n",
            "969  [android.permission.INTERNET, android.permissi...   \n",
            "970  [android.permission.ACCESS_WIFI_STATE, android...   \n",
            "971  [android.permission.INTERNET, android.permissi...   \n",
            "\n",
            "                                              Receiver  \\\n",
            "0    [com.nytimes.android.NetworkConnectivityReceiv...   \n",
            "1    [com.mywavia.roul.samples.hellofacebook.HelloF...   \n",
            "2    [com.designfuture.music.receiver.AndroidWearRe...   \n",
            "3                                                   []   \n",
            "4                                       [.HelloWidget]   \n",
            "..                                                 ...   \n",
            "967  [com.demo.service.HoldService, com.hzpz.pay.se...   \n",
            "968  [com.demo.service.HoldService, com.hzpz.pay.se...   \n",
            "969                      [com.kuguo.push.MainReceiver]   \n",
            "970  [com.kirall.xlclp.kid.d.KReceiver, com.bving.i...   \n",
            "971  [com.demo.service.HoldService, com.hzpz.pay.se...   \n",
            "\n",
            "                                              Activity isBenign  \n",
            "0    [com.nytimes.android.MainActivity, com.nytimes...        1  \n",
            "1    [com.inmobi.androidsdk.IMBrowserActivity, com....        1  \n",
            "2    [o.ʾ, com.designfuture.music.ui.phone.UrlCatch...        1  \n",
            "3    [com.junction.fire.gametemplate.GameTemplate, ...        1  \n",
            "4    [.Splash, .MainAct, .Settings, .Help, com.goog...        1  \n",
            "..                                                 ...      ...  \n",
            "967  [com.video.uiA.MainActivity, com.video.uiA.Hom...        0  \n",
            "968  [com.video.uiA.MainActivity, com.video.uiA.Hom...        0  \n",
            "969  [.AndroidBookActivity, com.kuguo.push.MainActi...        0  \n",
            "970  [com.androidemu.harveshihun.MainActivity, com....        0  \n",
            "971  [com.video.uiA.MainActivity, com.video.uiA.Hom...        0  \n",
            "\n",
            "[972 rows x 5 columns]\n",
            "                              AppName isBenign  \\\n",
            "0                 com.nytimes.android        1   \n",
            "1               com.mw.rouletteroyale        1   \n",
            "2       com.musixmatch.android.lyrify        1   \n",
            "3                com.oldwang1.darts-2        1   \n",
            "4      com.nb.fingerprint.lock.free-7        1   \n",
            "..                                ...      ...   \n",
            "967  6ecee7f961699cd7f0588af67fcb1874        0   \n",
            "968  2769efb3895a32b89b525c4b57e0902f        0   \n",
            "969  1ae249fc48db24293e4068c05be0e3ac        0   \n",
            "970  0f3cba835e54a93153786dce86ee22bd        0   \n",
            "971  5312cc7bedaefc5b7ed16b73e1fae113        0   \n",
            "\n",
            "     android.hardware.sensor.accelerometer  android.permission.ACCESS_COARSE  \\\n",
            "0                                        0                                 0   \n",
            "1                                        0                                 0   \n",
            "2                                        0                                 0   \n",
            "3                                        0                                 0   \n",
            "4                                        0                                 0   \n",
            "..                                     ...                               ...   \n",
            "967                                      0                                 0   \n",
            "968                                      0                                 0   \n",
            "969                                      0                                 0   \n",
            "970                                      0                                 0   \n",
            "971                                      0                                 0   \n",
            "\n",
            "     android.permission.ACCESS_COARSE_LOCATION  \\\n",
            "0                                            1   \n",
            "1                                            1   \n",
            "2                                            0   \n",
            "3                                            0   \n",
            "4                                            0   \n",
            "..                                         ...   \n",
            "967                                          1   \n",
            "968                                          1   \n",
            "969                                          1   \n",
            "970                                          1   \n",
            "971                                          1   \n",
            "\n",
            "     android.permission.ACCESS_COARSE_UPDATES  \\\n",
            "0                                           0   \n",
            "1                                           0   \n",
            "2                                           0   \n",
            "3                                           0   \n",
            "4                                           0   \n",
            "..                                        ...   \n",
            "967                                         0   \n",
            "968                                         0   \n",
            "969                                         0   \n",
            "970                                         0   \n",
            "971                                         0   \n",
            "\n",
            "     android.permission.ACCESS_COURSE_LOCATION  \\\n",
            "0                                            0   \n",
            "1                                            0   \n",
            "2                                            0   \n",
            "3                                            0   \n",
            "4                                            0   \n",
            "..                                         ...   \n",
            "967                                          0   \n",
            "968                                          0   \n",
            "969                                          0   \n",
            "970                                          0   \n",
            "971                                          0   \n",
            "\n",
            "     android.permission.ACCESS_DOWNLOAD_MANAGER  \\\n",
            "0                                             0   \n",
            "1                                             0   \n",
            "2                                             0   \n",
            "3                                             0   \n",
            "4                                             0   \n",
            "..                                          ...   \n",
            "967                                           0   \n",
            "968                                           0   \n",
            "969                                           0   \n",
            "970                                           0   \n",
            "971                                           0   \n",
            "\n",
            "     android.permission.ACCESS_FINE_LOCATIION  \\\n",
            "0                                           0   \n",
            "1                                           0   \n",
            "2                                           0   \n",
            "3                                           0   \n",
            "4                                           0   \n",
            "..                                        ...   \n",
            "967                                         0   \n",
            "968                                         0   \n",
            "969                                         0   \n",
            "970                                         0   \n",
            "971                                         0   \n",
            "\n",
            "     android.permission.ACCESS_FINE_LOCATION  ...  \\\n",
            "0                                          0  ...   \n",
            "1                                          0  ...   \n",
            "2                                          0  ...   \n",
            "3                                          0  ...   \n",
            "4                                          0  ...   \n",
            "..                                       ...  ...   \n",
            "967                                        1  ...   \n",
            "968                                        1  ...   \n",
            "969                                        1  ...   \n",
            "970                                        1  ...   \n",
            "971                                        1  ...   \n",
            "\n",
            "     wp.wattpad.ui.activities.webview.WebViewActivity  \\\n",
            "0                                                   0   \n",
            "1                                                   0   \n",
            "2                                                   0   \n",
            "3                                                   0   \n",
            "4                                                   0   \n",
            "..                                                ...   \n",
            "967                                                 0   \n",
            "968                                                 0   \n",
            "969                                                 0   \n",
            "970                                                 0   \n",
            "971                                                 0   \n",
            "\n",
            "     ww.nicholas.app.jiufangdaquan.contentActivity  \\\n",
            "0                                                0   \n",
            "1                                                0   \n",
            "2                                                0   \n",
            "3                                                0   \n",
            "4                                                0   \n",
            "..                                             ...   \n",
            "967                                              0   \n",
            "968                                              0   \n",
            "969                                              0   \n",
            "970                                              0   \n",
            "971                                              0   \n",
            "\n",
            "     ww.nicholas.app.jiufangdaquan.main  x.activity.Jewelry  \\\n",
            "0                                     0                   0   \n",
            "1                                     0                   0   \n",
            "2                                     0                   0   \n",
            "3                                     0                   0   \n",
            "4                                     0                   0   \n",
            "..                                  ...                 ...   \n",
            "967                                   0                   0   \n",
            "968                                   0                   0   \n",
            "969                                   0                   0   \n",
            "970                                   0                   0   \n",
            "971                                   0                   0   \n",
            "\n",
            "     xamarin.auth._mobileservices.FormAuthenticatorActivity  \\\n",
            "0                                                    0        \n",
            "1                                                    0        \n",
            "2                                                    0        \n",
            "3                                                    0        \n",
            "4                                                    0        \n",
            "..                                                 ...        \n",
            "967                                                  0        \n",
            "968                                                  0        \n",
            "969                                                  0        \n",
            "970                                                  0        \n",
            "971                                                  0        \n",
            "\n",
            "     xamarin.auth._mobileservices.WebAuthenticatorActivity  \\\n",
            "0                                                    0       \n",
            "1                                                    0       \n",
            "2                                                    0       \n",
            "3                                                    0       \n",
            "4                                                    0       \n",
            "..                                                 ...       \n",
            "967                                                  0       \n",
            "968                                                  0       \n",
            "969                                                  0       \n",
            "970                                                  0       \n",
            "971                                                  0       \n",
            "\n",
            "     yefqoftdkcpyypd.bhnhiuzufd  yefqoftdkcpyypd.fdtfypaekh  \\\n",
            "0                             0                           0   \n",
            "1                             0                           0   \n",
            "2                             0                           0   \n",
            "3                             0                           0   \n",
            "4                             0                           0   \n",
            "..                          ...                         ...   \n",
            "967                           0                           0   \n",
            "968                           0                           0   \n",
            "969                           0                           0   \n",
            "970                           0                           0   \n",
            "971                           0                           0   \n",
            "\n",
            "     yefqoftdkcpyypd.uaccsfjdqd  yefqoftdkcpyypd.xyyqbcbvxr  \n",
            "0                             0                           0  \n",
            "1                             0                           0  \n",
            "2                             0                           0  \n",
            "3                             0                           0  \n",
            "4                             0                           0  \n",
            "..                          ...                         ...  \n",
            "967                           0                           0  \n",
            "968                           0                           0  \n",
            "969                           0                           0  \n",
            "970                           0                           0  \n",
            "971                           0                           0  \n",
            "\n",
            "[972 rows x 11358 columns]\n"
          ]
        }
      ]
    },
    {
      "cell_type": "markdown",
      "source": [
        "# Feature Extraction using PCA\n",
        "Train test split - 80% Training 20% Testing\n",
        "\n",
        "trainSet,testSet,trainRes,testRes - train test split of permissionMapFeat\n",
        "\n",
        "trainSet1,testSet1,trainRes1,testRes1 - train test split of permissionMapFeat1\n",
        "\n",
        "trainSet2,testSet2,trainRes2,testRes2 - train test split of permissionMapFeat2"
      ],
      "metadata": {
        "id": "o04UgraGPinH"
      }
    },
    {
      "cell_type": "code",
      "source": [
        "trainSet,testSet,trainRes,testRes = sklearn.model_selection.train_test_split(permissionsMapFeat,isBenFeat, test_size=0.2, random_state=17)\n",
        "trainSet1,testSet1,trainRes1,testRes1 = sklearn.model_selection.train_test_split(permissionsMapFeat1,isBenFeat1, test_size=0.2, random_state=17)\n",
        "trainSet2,testSet2,trainRes2,testRes2 = sklearn.model_selection.train_test_split(permissionsMapFeat2,isBenFeat2, test_size=0.2, random_state=17)\n",
        "n_components = 10\n",
        "\n",
        "pca = PCA(n_components=n_components).fit(trainSet)\n",
        "pca1 = PCA(n_components=n_components).fit(trainSet1)\n",
        "pca2 = PCA(n_components=n_components).fit(trainSet2)\n",
        "\n",
        "\n"
      ],
      "metadata": {
        "id": "nx37ukluI_-h"
      },
      "execution_count": 12,
      "outputs": []
    },
    {
      "cell_type": "code",
      "source": [
        "matplotlib.pyplot.plot(np.cumsum(pca.explained_variance_ratio_))\n",
        "np.cumsum(pca.explained_variance_ratio_)\n",
        "matplotlib.pyplot.xlabel('num principal components')\n",
        "matplotlib.pyplot.ylabel('Fraction of total variance explained')\n",
        "\n"
      ],
      "metadata": {
        "colab": {
          "base_uri": "https://localhost:8080/",
          "height": 297
        },
        "id": "79zGq-fl4Sln",
        "outputId": "bf0021e4-0d81-473d-bc9e-5abda2187995"
      },
      "execution_count": 13,
      "outputs": [
        {
          "output_type": "execute_result",
          "data": {
            "text/plain": [
              "Text(0, 0.5, 'Fraction of total variance explained')"
            ]
          },
          "metadata": {},
          "execution_count": 13
        },
        {
          "output_type": "display_data",
          "data": {
            "text/plain": [
              "<Figure size 432x288 with 1 Axes>"
            ],
            "image/png": "[encoded data removed]"
          },
          "metadata": {
            "needs_background": "light"
          }
        }
      ]
    },
    {
      "cell_type": "code",
      "source": [
        "matplotlib.pyplot.plot(np.cumsum(pca1.explained_variance_ratio_))\n",
        "np.cumsum(pca1.explained_variance_ratio_)\n",
        "matplotlib.pyplot.xlabel('num principal components')\n",
        "matplotlib.pyplot.ylabel('Fraction of total variance explained')\n",
        "\n"
      ],
      "metadata": {
        "colab": {
          "base_uri": "https://localhost:8080/",
          "height": 297
        },
        "id": "ZI5ywk1P4XrQ",
        "outputId": "b6cfc903-2162-4087-f005-a910060b0b08"
      },
      "execution_count": 14,
      "outputs": [
        {
          "output_type": "execute_result",
          "data": {
            "text/plain": [
              "Text(0, 0.5, 'Fraction of total variance explained')"
            ]
          },
          "metadata": {},
          "execution_count": 14
        },
        {
          "output_type": "display_data",
          "data": {
            "text/plain": [
              "<Figure size 432x288 with 1 Axes>"
            ],
            "image/png": "[encoded data removed]"
          },
          "metadata": {
            "needs_background": "light"
          }
        }
      ]
    },
    {
      "cell_type": "code",
      "source": [
        "matplotlib.pyplot.plot(np.cumsum(pca2.explained_variance_ratio_))\n",
        "np.cumsum(pca2.explained_variance_ratio_)\n",
        "matplotlib.pyplot.xlabel('num principal components')\n",
        "matplotlib.pyplot.ylabel('Fraction of total variance explained')"
      ],
      "metadata": {
        "colab": {
          "base_uri": "https://localhost:8080/",
          "height": 297
        },
        "id": "DOb0iFdV4g0x",
        "outputId": "698bb5b8-96c0-485e-ab98-02b4640fce85"
      },
      "execution_count": 15,
      "outputs": [
        {
          "output_type": "execute_result",
          "data": {
            "text/plain": [
              "Text(0, 0.5, 'Fraction of total variance explained')"
            ]
          },
          "metadata": {},
          "execution_count": 15
        },
        {
          "output_type": "display_data",
          "data": {
            "text/plain": [
              "<Figure size 432x288 with 1 Axes>"
            ],
            "image/png": "[encoded data removed]"
          },
          "metadata": {
            "needs_background": "light"
          }
        }
      ]
    },
    {
      "cell_type": "code",
      "source": [
        "n_components = 3"
      ],
      "metadata": {
        "id": "1TfZwOG4JIf3"
      },
      "execution_count": 16,
      "outputs": []
    },
    {
      "cell_type": "code",
      "source": [
        "pca = PCA(n_components=n_components).fit(trainSet)\n",
        "pca1 = PCA(n_components=n_components).fit(trainSet1)\n",
        "pca2 = PCA(n_components=n_components).fit(trainSet2)"
      ],
      "metadata": {
        "id": "oV9w99GfJPqP"
      },
      "execution_count": 17,
      "outputs": []
    },
    {
      "cell_type": "code",
      "source": [
        "X_train_pca = pca.transform(trainSet)\n",
        "X_test_pca = pca.transform(testSet)\n",
        "\n",
        "X_train_pca1 = pca1.transform(trainSet1)\n",
        "X_test_pca1 = pca1.transform(testSet1)\n",
        "\n",
        "X_train_pca2 = pca2.transform(trainSet2)\n",
        "X_test_pca2 = pca2.transform(testSet2)"
      ],
      "metadata": {
        "id": "deaajG_sJRMO"
      },
      "execution_count": 18,
      "outputs": []
    },
    {
      "cell_type": "code",
      "source": [
        "fig, ax = matplotlib.pyplot.subplots(1)\n",
        "\n",
        "for i in range(2):\n",
        "    ax.scatter(X_train_pca[trainRes==i][:,0], X_train_pca[trainRes==i][:,1], label=[0, 1][i], alpha=0.5)\n",
        "    \n",
        "ax.set_xlabel('PC 1')\n",
        "ax.set_xlabel('PC 2')\n",
        "ax.legend()"
      ],
      "metadata": {
        "colab": {
          "base_uri": "https://localhost:8080/",
          "height": 297
        },
        "id": "zXN-mOxcJiV0",
        "outputId": "cbb888e5-b54e-434b-addd-0a367e26c995"
      },
      "execution_count": 19,
      "outputs": [
        {
          "output_type": "execute_result",
          "data": {
            "text/plain": [
              "<matplotlib.legend.Legend at 0x7f4d1a696760>"
            ]
          },
          "metadata": {},
          "execution_count": 19
        },
        {
          "output_type": "display_data",
          "data": {
            "text/plain": [
              "<Figure size 432x288 with 1 Axes>"
            ],
            "image/png": "[encoded data removed]"
          },
          "metadata": {
            "needs_background": "light"
          }
        }
      ]
    },
    {
      "cell_type": "code",
      "source": [
        "fig, ax = matplotlib.pyplot.subplots(1)\n",
        "\n",
        "for i in range(2):\n",
        "    ax.scatter(X_train_pca1[trainRes1==i][:,0], X_train_pca1[trainRes1==i][:,1], label=[0, 1][i], alpha=0.5)\n",
        "    \n",
        "ax.set_xlabel('PC 1')\n",
        "ax.set_xlabel('PC 2')\n",
        "ax.legend()"
      ],
      "metadata": {
        "colab": {
          "base_uri": "https://localhost:8080/",
          "height": 297
        },
        "id": "PtTW0vIZ7iXQ",
        "outputId": "60df5af9-b2fd-47a4-be05-690c608d3619"
      },
      "execution_count": 20,
      "outputs": [
        {
          "output_type": "execute_result",
          "data": {
            "text/plain": [
              "<matplotlib.legend.Legend at 0x7f4d1a605520>"
            ]
          },
          "metadata": {},
          "execution_count": 20
        },
        {
          "output_type": "display_data",
          "data": {
            "text/plain": [
              "<Figure size 432x288 with 1 Axes>"
            ],
            "image/png": "[encoded data removed]"
          },
          "metadata": {
            "needs_background": "light"
          }
        }
      ]
    },
    {
      "cell_type": "code",
      "source": [
        "fig, ax = matplotlib.pyplot.subplots(1)\n",
        "\n",
        "for i in range(2):\n",
        "    ax.scatter(X_train_pca2[trainRes2==i][:,0], X_train_pca2[trainRes2==i][:,1], label=[0, 1][i], alpha=0.5)\n",
        "    \n",
        "ax.set_xlabel('PC 1')\n",
        "ax.set_xlabel('PC 2')\n",
        "ax.legend()"
      ],
      "metadata": {
        "colab": {
          "base_uri": "https://localhost:8080/",
          "height": 297
        },
        "id": "sBYnJFre7Ykp",
        "outputId": "2273d567-7843-47a9-c386-86c8c586cae1"
      },
      "execution_count": 21,
      "outputs": [
        {
          "output_type": "execute_result",
          "data": {
            "text/plain": [
              "<matplotlib.legend.Legend at 0x7f4d1a696730>"
            ]
          },
          "metadata": {},
          "execution_count": 21
        },
        {
          "output_type": "display_data",
          "data": {
            "text/plain": [
              "<Figure size 432x288 with 1 Axes>"
            ],
            "image/png": "[encoded data removed]"
          },
          "metadata": {
            "needs_background": "light"
          }
        }
      ]
    },
    {
      "cell_type": "code",
      "source": [
        "trainRes = trainRes.astype('int')\n",
        "trainRes1 = trainRes1.astype('int')\n",
        "trainRes2 = trainRes2.astype('int')"
      ],
      "metadata": {
        "id": "nDT9R1IuK5bU"
      },
      "execution_count": 22,
      "outputs": []
    },
    {
      "cell_type": "markdown",
      "source": [
        "# SVM's for all three dataframes"
      ],
      "metadata": {
        "id": "eQj4BaHaQfWV"
      }
    },
    {
      "cell_type": "markdown",
      "source": [
        "**Cross Validation for SVM**"
      ],
      "metadata": {
        "id": "T4TxFLY8QlND"
      }
    },
    {
      "cell_type": "code",
      "source": [
        "from sklearn.model_selection import cross_val_score\n",
        "from sklearn.svm import SVC\n",
        "svc = SVC(C=10000, kernel='rbf')\n",
        "scores = cross_val_score(svc, X=X_train_pca, y=trainRes, cv=5, n_jobs=1)\n",
        "svc1 = SVC(C=10000, kernel='rbf')\n",
        "scores1 = cross_val_score(svc1, X=X_train_pca1, y=trainRes1, cv=5, n_jobs=1)\n",
        "svc2 = SVC(C=10000, kernel='rbf')\n",
        "scores2 = cross_val_score(svc2, X=X_train_pca2, y=trainRes2, cv=5, n_jobs=1)"
      ],
      "metadata": {
        "id": "zvknvtlxD3KS"
      },
      "execution_count": 23,
      "outputs": []
    },
    {
      "cell_type": "code",
      "source": [
        "print('Cross Validation accuracy: %.3f +/- %.3f' % (np.mean(scores),np.std(scores)))\n",
        "print('Cross Validation accuracy: %.3f +/- %.3f' % (np.mean(scores1),np.std(scores1)))\n",
        "print('Cross Validation accuracy: %.3f +/- %.3f' % (np.mean(scores2),np.std(scores2)))"
      ],
      "metadata": {
        "colab": {
          "base_uri": "https://localhost:8080/"
        },
        "id": "BvMSJgAhFq4n",
        "outputId": "af06cfad-a074-4d4f-c155-0d86e6f9167d"
      },
      "execution_count": 24,
      "outputs": [
        {
          "output_type": "stream",
          "name": "stdout",
          "text": [
            "Cross Validation accuracy: 0.874 +/- 0.017\n",
            "Cross Validation accuracy: 0.884 +/- 0.015\n",
            "Cross Validation accuracy: 0.901 +/- 0.017\n"
          ]
        }
      ]
    },
    {
      "cell_type": "code",
      "source": [
        "svc.fit(X_train_pca, trainRes)\n",
        "svc1 = SVC(C=10000, kernel='rbf')\n",
        "svc1.fit(X_train_pca1, trainRes1)\n",
        "svc2 = SVC(C=10000, kernel='rbf')\n",
        "svc2.fit(X_train_pca2, trainRes2)"
      ],
      "metadata": {
        "colab": {
          "base_uri": "https://localhost:8080/"
        },
        "id": "tylqUdN9KC4x",
        "outputId": "dbd4ca3d-75f3-4cef-89f0-7e521a410ce4"
      },
      "execution_count": 26,
      "outputs": [
        {
          "output_type": "execute_result",
          "data": {
            "text/plain": [
              "SVC(C=10000)"
            ]
          },
          "metadata": {},
          "execution_count": 26
        }
      ]
    },
    {
      "cell_type": "code",
      "source": [
        "y_pred = svc.predict(X_test_pca)\n",
        "y_pred1 = svc1.predict(X_test_pca1)\n",
        "y_pred2 = svc2.predict(X_test_pca2)"
      ],
      "metadata": {
        "id": "OpHzTuH0Lw5B"
      },
      "execution_count": 27,
      "outputs": []
    },
    {
      "cell_type": "code",
      "source": [
        "testRes = testRes.astype('int')\n",
        "testRes1 = testRes1.astype('int')\n",
        "testRes2 = testRes2.astype('int')"
      ],
      "metadata": {
        "id": "RsW-5j4hL7tg"
      },
      "execution_count": 28,
      "outputs": []
    },
    {
      "cell_type": "code",
      "source": [
        "from sklearn.metrics import classification_report\n",
        "\n",
        "print(classification_report(testRes, y_pred))\n"
      ],
      "metadata": {
        "colab": {
          "base_uri": "https://localhost:8080/"
        },
        "id": "wwldXhFELzPJ",
        "outputId": "fe8ef451-5697-4b0e-d8dc-3a4c8aad76dd"
      },
      "execution_count": 29,
      "outputs": [
        {
          "output_type": "stream",
          "name": "stdout",
          "text": [
            "              precision    recall  f1-score   support\n",
            "\n",
            "           0       0.85      0.90      0.87       105\n",
            "           1       0.87      0.82      0.85        90\n",
            "\n",
            "    accuracy                           0.86       195\n",
            "   macro avg       0.86      0.86      0.86       195\n",
            "weighted avg       0.86      0.86      0.86       195\n",
            "\n"
          ]
        }
      ]
    },
    {
      "cell_type": "code",
      "source": [
        "print(\"SVM\")\n",
        "fscore=calculatefscore(testRes,y_pred)"
      ],
      "metadata": {
        "colab": {
          "base_uri": "https://localhost:8080/"
        },
        "id": "lLkqFCp2Mg7y",
        "outputId": "0c5a222d-290c-499d-d0c5-3a7b13f7da66"
      },
      "execution_count": 30,
      "outputs": [
        {
          "output_type": "stream",
          "name": "stdout",
          "text": [
            "SVM\n",
            "TP: 74\n",
            "FP: 11\n",
            "FN: 16\n",
            "TN: 94\n"
          ]
        }
      ]
    },
    {
      "cell_type": "code",
      "source": [
        "print(classification_report(testRes1, y_pred1))"
      ],
      "metadata": {
        "colab": {
          "base_uri": "https://localhost:8080/"
        },
        "id": "naOKJ8pb9wX-",
        "outputId": "e46975c4-aa87-482a-aa31-4c92b41860f2"
      },
      "execution_count": 31,
      "outputs": [
        {
          "output_type": "stream",
          "name": "stdout",
          "text": [
            "              precision    recall  f1-score   support\n",
            "\n",
            "           0       0.88      0.86      0.87       105\n",
            "           1       0.84      0.87      0.85        90\n",
            "\n",
            "    accuracy                           0.86       195\n",
            "   macro avg       0.86      0.86      0.86       195\n",
            "weighted avg       0.86      0.86      0.86       195\n",
            "\n"
          ]
        }
      ]
    },
    {
      "cell_type": "code",
      "source": [
        "print(\"SVM PCA Feature-2\")\n",
        "fscore=calculatefscore(testRes1,y_pred1)"
      ],
      "metadata": {
        "colab": {
          "base_uri": "https://localhost:8080/"
        },
        "id": "0DlLkd869w_0",
        "outputId": "45975bb1-5938-49fa-b55b-6fb375e7272e"
      },
      "execution_count": 34,
      "outputs": [
        {
          "output_type": "stream",
          "name": "stdout",
          "text": [
            "SVM PCA Feature-2\n",
            "TP: 78\n",
            "FP: 15\n",
            "FN: 12\n",
            "TN: 90\n"
          ]
        }
      ]
    },
    {
      "cell_type": "code",
      "source": [
        "print(classification_report(testRes2, y_pred2))"
      ],
      "metadata": {
        "colab": {
          "base_uri": "https://localhost:8080/"
        },
        "id": "yV0OCP4C9yIt",
        "outputId": "70549eb9-5edb-43a1-da54-f3c6c127b2c4"
      },
      "execution_count": 35,
      "outputs": [
        {
          "output_type": "stream",
          "name": "stdout",
          "text": [
            "              precision    recall  f1-score   support\n",
            "\n",
            "           0       0.89      0.94      0.92       105\n",
            "           1       0.93      0.87      0.90        90\n",
            "\n",
            "    accuracy                           0.91       195\n",
            "   macro avg       0.91      0.90      0.91       195\n",
            "weighted avg       0.91      0.91      0.91       195\n",
            "\n"
          ]
        }
      ]
    },
    {
      "cell_type": "code",
      "source": [
        "print(\"SVM PCA Feature-3\")\n",
        "fscore=calculatefscore(testRes2,y_pred2)"
      ],
      "metadata": {
        "colab": {
          "base_uri": "https://localhost:8080/"
        },
        "id": "eh-Zdmnc9zG9",
        "outputId": "2de3fd5d-9ddb-4c46-aa5a-0a803810c02b"
      },
      "execution_count": 36,
      "outputs": [
        {
          "output_type": "stream",
          "name": "stdout",
          "text": [
            "SVM PCA Feature-3\n",
            "TP: 78\n",
            "FP: 6\n",
            "FN: 12\n",
            "TN: 99\n"
          ]
        }
      ]
    },
    {
      "cell_type": "markdown",
      "source": [
        "# LightGBM Classifier"
      ],
      "metadata": {
        "id": "QCxYAVZ3RRcu"
      }
    },
    {
      "cell_type": "code",
      "source": [
        "lgbmClassifier=lightgbm.LGBMClassifier()\n",
        "scores = cross_val_score(lgbmClassifier, X=X_train_pca, y=trainRes, cv=5, n_jobs=1)\n",
        "lgbmClassifier1=lightgbm.LGBMClassifier()\n",
        "scores1 = cross_val_score(lgbmClassifier1, X=X_train_pca1, y=trainRes1, cv=5, n_jobs=1)\n",
        "lgbmClassifier2=lightgbm.LGBMClassifier()\n",
        "scores2 = cross_val_score(lgbmClassifier2, X=X_train_pca2, y=trainRes2, cv=5, n_jobs=1)"
      ],
      "metadata": {
        "id": "NOd5Cet7G8X2"
      },
      "execution_count": 37,
      "outputs": []
    },
    {
      "cell_type": "code",
      "source": [
        "print('Cross Validation accuracy: %.3f +/- %.3f' % (np.mean(scores),np.std(scores)))\n",
        "print('Cross Validation accuracy: %.3f +/- %.3f' % (np.mean(scores1),np.std(scores1)))\n",
        "print('Cross Validation accuracy: %.3f +/- %.3f' % (np.mean(scores2),np.std(scores2)))"
      ],
      "metadata": {
        "colab": {
          "base_uri": "https://localhost:8080/"
        },
        "id": "4XIc_n2FKwRG",
        "outputId": "93099c1c-9f96-4050-c1f1-47bd807f23a1"
      },
      "execution_count": 38,
      "outputs": [
        {
          "output_type": "stream",
          "name": "stdout",
          "text": [
            "Cross Validation accuracy: 0.885 +/- 0.025\n",
            "Cross Validation accuracy: 0.897 +/- 0.013\n",
            "Cross Validation accuracy: 0.918 +/- 0.009\n"
          ]
        }
      ]
    },
    {
      "cell_type": "code",
      "source": [
        "lgbmClassifier=lightgbm.LGBMClassifier()\n",
        "lgbmClassifier.fit(X_train_pca, trainRes)\n",
        "predLGBM = lgbmClassifier.predict(X_test_pca)\n",
        "\n",
        "lgbmClassifier1=lightgbm.LGBMClassifier()\n",
        "lgbmClassifier1.fit(X_train_pca1, trainRes1)\n",
        "predLGBM1 = lgbmClassifier1.predict(X_test_pca1)\n",
        "\n",
        "lgbmClassifier2=lightgbm.LGBMClassifier()\n",
        "lgbmClassifier2.fit(X_train_pca2, trainRes2)\n",
        "predLGBM2 = lgbmClassifier2.predict(X_test_pca2)\n"
      ],
      "metadata": {
        "id": "AlBLRL2sMRtl"
      },
      "execution_count": 39,
      "outputs": []
    },
    {
      "cell_type": "code",
      "source": [
        "print(classification_report(testRes, predLGBM))"
      ],
      "metadata": {
        "colab": {
          "base_uri": "https://localhost:8080/"
        },
        "id": "4V5c8jLpMSyT",
        "outputId": "54beb5a9-96d8-4538-9324-f8236aa524aa"
      },
      "execution_count": 40,
      "outputs": [
        {
          "output_type": "stream",
          "name": "stdout",
          "text": [
            "              precision    recall  f1-score   support\n",
            "\n",
            "           0       0.86      0.92      0.89       105\n",
            "           1       0.90      0.82      0.86        90\n",
            "\n",
            "    accuracy                           0.88       195\n",
            "   macro avg       0.88      0.87      0.88       195\n",
            "weighted avg       0.88      0.88      0.88       195\n",
            "\n"
          ]
        }
      ]
    },
    {
      "cell_type": "code",
      "source": [
        "print(\"LGBM\")\n",
        "fscore=calculatefscore(testRes,predLGBM)"
      ],
      "metadata": {
        "colab": {
          "base_uri": "https://localhost:8080/"
        },
        "id": "Ej9M4CwzN86E",
        "outputId": "070a6d64-8e6c-492d-b3e3-9cf1641db423"
      },
      "execution_count": 41,
      "outputs": [
        {
          "output_type": "stream",
          "name": "stdout",
          "text": [
            "LGBM\n",
            "TP: 74\n",
            "FP: 8\n",
            "FN: 16\n",
            "TN: 97\n"
          ]
        }
      ]
    },
    {
      "cell_type": "code",
      "source": [
        "print(classification_report(testRes1, predLGBM1))"
      ],
      "metadata": {
        "colab": {
          "base_uri": "https://localhost:8080/"
        },
        "id": "R7jTWETaAPeK",
        "outputId": "1bbde0a4-8da2-45de-cbc7-f6bf0693d1fa"
      },
      "execution_count": 42,
      "outputs": [
        {
          "output_type": "stream",
          "name": "stdout",
          "text": [
            "              precision    recall  f1-score   support\n",
            "\n",
            "           0       0.88      0.93      0.90       105\n",
            "           1       0.92      0.84      0.88        90\n",
            "\n",
            "    accuracy                           0.89       195\n",
            "   macro avg       0.90      0.89      0.89       195\n",
            "weighted avg       0.89      0.89      0.89       195\n",
            "\n"
          ]
        }
      ]
    },
    {
      "cell_type": "code",
      "source": [
        "print(\"LGBM PCA Feature-2\")\n",
        "fscore=calculatefscore(testRes1,predLGBM1)"
      ],
      "metadata": {
        "colab": {
          "base_uri": "https://localhost:8080/"
        },
        "id": "UbaaPpErAPQf",
        "outputId": "8f74dcfa-55d6-46f6-aa16-228ce4b690eb"
      },
      "execution_count": 43,
      "outputs": [
        {
          "output_type": "stream",
          "name": "stdout",
          "text": [
            "LGBM PCA Feature-2\n",
            "TP: 76\n",
            "FP: 7\n",
            "FN: 14\n",
            "TN: 98\n"
          ]
        }
      ]
    },
    {
      "cell_type": "code",
      "source": [
        "print(classification_report(testRes2, predLGBM2))"
      ],
      "metadata": {
        "colab": {
          "base_uri": "https://localhost:8080/"
        },
        "id": "cJfgIetNAPB3",
        "outputId": "0c8d4221-d9d7-4032-98fd-039e59caad11"
      },
      "execution_count": 44,
      "outputs": [
        {
          "output_type": "stream",
          "name": "stdout",
          "text": [
            "              precision    recall  f1-score   support\n",
            "\n",
            "           0       0.89      0.96      0.93       105\n",
            "           1       0.95      0.87      0.91        90\n",
            "\n",
            "    accuracy                           0.92       195\n",
            "   macro avg       0.92      0.91      0.92       195\n",
            "weighted avg       0.92      0.92      0.92       195\n",
            "\n"
          ]
        }
      ]
    },
    {
      "cell_type": "code",
      "source": [
        "print(\"LGBM PCA Feature-3\")\n",
        "fscore=calculatefscore(testRes2,predLGBM2)"
      ],
      "metadata": {
        "colab": {
          "base_uri": "https://localhost:8080/"
        },
        "id": "NoSTDdNQAOVL",
        "outputId": "8153dd80-daae-41ce-96bc-c2d384b66d2c"
      },
      "execution_count": 45,
      "outputs": [
        {
          "output_type": "stream",
          "name": "stdout",
          "text": [
            "LGBM PCA Feature-3\n",
            "TP: 78\n",
            "FP: 4\n",
            "FN: 12\n",
            "TN: 101\n"
          ]
        }
      ]
    },
    {
      "cell_type": "markdown",
      "source": [
        "# Decision tree Classifier"
      ],
      "metadata": {
        "id": "uEdaFkgCRYB-"
      }
    },
    {
      "cell_type": "code",
      "source": [
        "decisionTreeClassifier=sklearn.tree.DecisionTreeClassifier()\n",
        "scores = cross_val_score(decisionTreeClassifier, X=X_train_pca, y=trainRes, cv=5, n_jobs=1)\n",
        "decisionTreeClassifier1=sklearn.tree.DecisionTreeClassifier()\n",
        "scores1 = cross_val_score(decisionTreeClassifier1, X=X_train_pca1, y=trainRes1, cv=5, n_jobs=1)\n",
        "decisionTreeClassifier2=sklearn.tree.DecisionTreeClassifier()\n",
        "scores2 = cross_val_score(decisionTreeClassifier2, X=X_train_pca2, y=trainRes2, cv=5, n_jobs=1)"
      ],
      "metadata": {
        "id": "_9nql7jmK8VQ"
      },
      "execution_count": 46,
      "outputs": []
    },
    {
      "cell_type": "code",
      "source": [
        "print('Cross Validation accuracy: %.3f +/- %.3f' % (np.mean(scores),np.std(scores)))\n",
        "print('Cross Validation accuracy: %.3f +/- %.3f' % (np.mean(scores1),np.std(scores1)))\n",
        "print('Cross Validation accuracy: %.3f +/- %.3f' % (np.mean(scores2),np.std(scores2)))"
      ],
      "metadata": {
        "colab": {
          "base_uri": "https://localhost:8080/"
        },
        "id": "a7i7kTIOLCnf",
        "outputId": "a3384daa-5b65-4789-d0ec-bc667e260cdc"
      },
      "execution_count": 47,
      "outputs": [
        {
          "output_type": "stream",
          "name": "stdout",
          "text": [
            "Cross Validation accuracy: 0.857 +/- 0.042\n",
            "Cross Validation accuracy: 0.875 +/- 0.023\n",
            "Cross Validation accuracy: 0.892 +/- 0.023\n"
          ]
        }
      ]
    },
    {
      "cell_type": "code",
      "source": [
        "decisionTreeClassifier=sklearn.tree.DecisionTreeClassifier()\n",
        "decisionTreeClassifier.fit(X_train_pca, trainRes)\n",
        "predDTC = decisionTreeClassifier.predict(X_test_pca)\n",
        "print(classification_report(testRes, predDTC))"
      ],
      "metadata": {
        "colab": {
          "base_uri": "https://localhost:8080/"
        },
        "id": "2KGCBpyWOIKw",
        "outputId": "34ec28da-84b7-4f5c-fb47-ebe7d1b5a7d0"
      },
      "execution_count": 48,
      "outputs": [
        {
          "output_type": "stream",
          "name": "stdout",
          "text": [
            "              precision    recall  f1-score   support\n",
            "\n",
            "           0       0.88      0.91      0.90       105\n",
            "           1       0.90      0.86      0.88        90\n",
            "\n",
            "    accuracy                           0.89       195\n",
            "   macro avg       0.89      0.88      0.89       195\n",
            "weighted avg       0.89      0.89      0.89       195\n",
            "\n"
          ]
        }
      ]
    },
    {
      "cell_type": "code",
      "source": [
        "print(\"Decision Tree PCA Feature-1\")\n",
        "fscore=calculatefscore(testRes,predDTC)"
      ],
      "metadata": {
        "colab": {
          "base_uri": "https://localhost:8080/"
        },
        "id": "J2N2pkAlB-Pu",
        "outputId": "9bb463f8-f09f-4142-eaa9-d8748fa77f50"
      },
      "execution_count": 49,
      "outputs": [
        {
          "output_type": "stream",
          "name": "stdout",
          "text": [
            "Decision Tree PCA Feature-1\n",
            "TP: 77\n",
            "FP: 9\n",
            "FN: 13\n",
            "TN: 96\n"
          ]
        }
      ]
    },
    {
      "cell_type": "code",
      "source": [
        "decisionTreeClassifier1=sklearn.tree.DecisionTreeClassifier()\n",
        "decisionTreeClassifier1.fit(X_train_pca1, trainRes1)\n",
        "predDTC1 = decisionTreeClassifier1.predict(X_test_pca1)\n",
        "print(classification_report(testRes1, predDTC1))"
      ],
      "metadata": {
        "colab": {
          "base_uri": "https://localhost:8080/"
        },
        "id": "5lHm1PQDCJMP",
        "outputId": "2fe543d6-cdb0-42c2-9c08-6aa298cecb18"
      },
      "execution_count": 50,
      "outputs": [
        {
          "output_type": "stream",
          "name": "stdout",
          "text": [
            "              precision    recall  f1-score   support\n",
            "\n",
            "           0       0.85      0.94      0.90       105\n",
            "           1       0.92      0.81      0.86        90\n",
            "\n",
            "    accuracy                           0.88       195\n",
            "   macro avg       0.89      0.88      0.88       195\n",
            "weighted avg       0.89      0.88      0.88       195\n",
            "\n"
          ]
        }
      ]
    },
    {
      "cell_type": "code",
      "source": [
        "print(\"Decision Tree PCA Feature-2\")\n",
        "fscore=calculatefscore(testRes1,predDTC1)"
      ],
      "metadata": {
        "colab": {
          "base_uri": "https://localhost:8080/"
        },
        "id": "8VnXTk1APVTl",
        "outputId": "907c4129-39c3-40da-ded8-a3bf2c5366bf"
      },
      "execution_count": 51,
      "outputs": [
        {
          "output_type": "stream",
          "name": "stdout",
          "text": [
            "Decision Tree PCA Feature-2\n",
            "TP: 73\n",
            "FP: 6\n",
            "FN: 17\n",
            "TN: 99\n"
          ]
        }
      ]
    },
    {
      "cell_type": "code",
      "source": [
        "decisionTreeClassifier2=sklearn.tree.DecisionTreeClassifier()\n",
        "decisionTreeClassifier2.fit(X_train_pca2, trainRes2)\n",
        "predDTC2 = decisionTreeClassifier2.predict(X_test_pca2)\n",
        "print(classification_report(testRes2, predDTC2))"
      ],
      "metadata": {
        "colab": {
          "base_uri": "https://localhost:8080/"
        },
        "id": "iy1NnZ1BCiki",
        "outputId": "a60fd0c2-3ede-4b02-af4c-bc142bd4cfac"
      },
      "execution_count": 52,
      "outputs": [
        {
          "output_type": "stream",
          "name": "stdout",
          "text": [
            "              precision    recall  f1-score   support\n",
            "\n",
            "           0       0.91      0.90      0.91       105\n",
            "           1       0.89      0.90      0.90        90\n",
            "\n",
            "    accuracy                           0.90       195\n",
            "   macro avg       0.90      0.90      0.90       195\n",
            "weighted avg       0.90      0.90      0.90       195\n",
            "\n"
          ]
        }
      ]
    },
    {
      "cell_type": "code",
      "source": [
        "print(\"Decision Tree PCA Feature-3\")\n",
        "fscore=calculatefscore(testRes2,predDTC2)"
      ],
      "metadata": {
        "colab": {
          "base_uri": "https://localhost:8080/"
        },
        "id": "nDv7XE6PCiT0",
        "outputId": "67062a66-0634-4af9-f980-954e28895b58"
      },
      "execution_count": 53,
      "outputs": [
        {
          "output_type": "stream",
          "name": "stdout",
          "text": [
            "Decision Tree PCA Feature-3\n",
            "TP: 81\n",
            "FP: 10\n",
            "FN: 9\n",
            "TN: 95\n"
          ]
        }
      ]
    },
    {
      "cell_type": "markdown",
      "source": [
        "# XGBoost Classifier"
      ],
      "metadata": {
        "id": "YXxxs5MqRcq8"
      }
    },
    {
      "cell_type": "code",
      "source": [
        "xgBoostClassfier = xgboost.XGBClassifier()\n",
        "scores = cross_val_score(xgBoostClassfier, X=X_train_pca, y=trainRes, cv=5, n_jobs=1)\n",
        "xgBoostClassfier1 = xgboost.XGBClassifier()\n",
        "scores1 = cross_val_score(xgBoostClassfier1, X=X_train_pca1, y=trainRes1, cv=5, n_jobs=1)\n",
        "xgBoostClassfier2 = xgboost.XGBClassifier()\n",
        "scores2 = cross_val_score(xgBoostClassfier2, X=X_train_pca2, y=trainRes2, cv=5, n_jobs=1)"
      ],
      "metadata": {
        "id": "bJbK5x8OLVAi"
      },
      "execution_count": 54,
      "outputs": []
    },
    {
      "cell_type": "code",
      "source": [
        "print('Cross Validation accuracy: %.3f +/- %.3f' % (np.mean(scores),np.std(scores)))\n",
        "print('Cross Validation accuracy: %.3f +/- %.3f' % (np.mean(scores1),np.std(scores1)))\n",
        "print('Cross Validation accuracy: %.3f +/- %.3f' % (np.mean(scores2),np.std(scores2)))"
      ],
      "metadata": {
        "colab": {
          "base_uri": "https://localhost:8080/"
        },
        "id": "Ure7sh4CLeXS",
        "outputId": "5b8121c9-3523-4b3d-d067-89b6cdff851d"
      },
      "execution_count": 55,
      "outputs": [
        {
          "output_type": "stream",
          "name": "stdout",
          "text": [
            "Cross Validation accuracy: 0.884 +/- 0.029\n",
            "Cross Validation accuracy: 0.907 +/- 0.026\n",
            "Cross Validation accuracy: 0.907 +/- 0.016\n"
          ]
        }
      ]
    },
    {
      "cell_type": "code",
      "source": [
        "xgBoostClassfier = xgboost.XGBClassifier()\n",
        "xgBoostClassfier.fit(X_train_pca, trainRes)\n",
        "predictionsXGBoost = xgBoostClassfier.predict(X_test_pca)\n",
        "print(classification_report(testRes, predictionsXGBoost))"
      ],
      "metadata": {
        "colab": {
          "base_uri": "https://localhost:8080/"
        },
        "id": "x7w4jJL1P8is",
        "outputId": "bd0d2d26-5803-4f87-cd07-04e260bccaa7"
      },
      "execution_count": 56,
      "outputs": [
        {
          "output_type": "stream",
          "name": "stdout",
          "text": [
            "              precision    recall  f1-score   support\n",
            "\n",
            "           0       0.88      0.90      0.89       105\n",
            "           1       0.89      0.86      0.87        90\n",
            "\n",
            "    accuracy                           0.88       195\n",
            "   macro avg       0.88      0.88      0.88       195\n",
            "weighted avg       0.88      0.88      0.88       195\n",
            "\n"
          ]
        }
      ]
    },
    {
      "cell_type": "code",
      "source": [
        "print(\"XGBoost Classifier\")\n",
        "fscore=calculatefscore(testRes,predictionsXGBoost)"
      ],
      "metadata": {
        "colab": {
          "base_uri": "https://localhost:8080/"
        },
        "id": "3iBZWcrsThZv",
        "outputId": "985eb1a0-d62b-43a6-e296-adee3428e454"
      },
      "execution_count": 57,
      "outputs": [
        {
          "output_type": "stream",
          "name": "stdout",
          "text": [
            "XGBoost Classifier\n",
            "TP: 77\n",
            "FP: 10\n",
            "FN: 13\n",
            "TN: 95\n"
          ]
        }
      ]
    },
    {
      "cell_type": "code",
      "source": [
        "xgBoostClassfier1 = xgboost.XGBClassifier()\n",
        "xgBoostClassfier1.fit(X_train_pca1, trainRes1)\n",
        "predictionsXGBoost1 = xgBoostClassfier1.predict(X_test_pca1)\n",
        "print(classification_report(testRes1, predictionsXGBoost1))"
      ],
      "metadata": {
        "colab": {
          "base_uri": "https://localhost:8080/"
        },
        "id": "exKMeJ3EEZRo",
        "outputId": "165aea89-e220-4066-c670-6691ff43625d"
      },
      "execution_count": 58,
      "outputs": [
        {
          "output_type": "stream",
          "name": "stdout",
          "text": [
            "              precision    recall  f1-score   support\n",
            "\n",
            "           0       0.86      0.91      0.88       105\n",
            "           1       0.89      0.82      0.86        90\n",
            "\n",
            "    accuracy                           0.87       195\n",
            "   macro avg       0.87      0.87      0.87       195\n",
            "weighted avg       0.87      0.87      0.87       195\n",
            "\n"
          ]
        }
      ]
    },
    {
      "cell_type": "code",
      "source": [
        "print(\"XGBoost Classifier PCA Feature-2\")\n",
        "fscore=calculatefscore(testRes1,predictionsXGBoost1)"
      ],
      "metadata": {
        "colab": {
          "base_uri": "https://localhost:8080/"
        },
        "id": "G_iccTlSEZD0",
        "outputId": "a2ec32ae-f374-45f0-a5ce-358e3a3fba0b"
      },
      "execution_count": 59,
      "outputs": [
        {
          "output_type": "stream",
          "name": "stdout",
          "text": [
            "XGBoost Classifier PCA Feature-2\n",
            "TP: 74\n",
            "FP: 9\n",
            "FN: 16\n",
            "TN: 96\n"
          ]
        }
      ]
    },
    {
      "cell_type": "code",
      "source": [
        "xgBoostClassfier2 = xgboost.XGBClassifier()\n",
        "xgBoostClassfier2.fit(X_train_pca2, trainRes2)\n",
        "predictionsXGBoost2 = xgBoostClassfier2.predict(X_test_pca2)\n",
        "print(classification_report(testRes2, predictionsXGBoost2))"
      ],
      "metadata": {
        "colab": {
          "base_uri": "https://localhost:8080/"
        },
        "id": "UTs1riz3EY1F",
        "outputId": "d322403a-578d-4892-c4b2-59409b12aa08"
      },
      "execution_count": 60,
      "outputs": [
        {
          "output_type": "stream",
          "name": "stdout",
          "text": [
            "              precision    recall  f1-score   support\n",
            "\n",
            "           0       0.88      0.93      0.91       105\n",
            "           1       0.92      0.86      0.89        90\n",
            "\n",
            "    accuracy                           0.90       195\n",
            "   macro avg       0.90      0.89      0.90       195\n",
            "weighted avg       0.90      0.90      0.90       195\n",
            "\n"
          ]
        }
      ]
    },
    {
      "cell_type": "code",
      "source": [
        "print(\"XGBoost Classifier PCA Feature-3\")\n",
        "fscore=calculatefscore(testRes2,predictionsXGBoost2)"
      ],
      "metadata": {
        "colab": {
          "base_uri": "https://localhost:8080/"
        },
        "id": "uCwt-5cMEYle",
        "outputId": "2b7bcf77-7448-40d5-ffac-f9bfd28a91d3"
      },
      "execution_count": 61,
      "outputs": [
        {
          "output_type": "stream",
          "name": "stdout",
          "text": [
            "XGBoost Classifier PCA Feature-3\n",
            "TP: 77\n",
            "FP: 7\n",
            "FN: 13\n",
            "TN: 98\n"
          ]
        }
      ]
    },
    {
      "cell_type": "markdown",
      "source": [
        "# Random Forest Classifier"
      ],
      "metadata": {
        "id": "2v9evs5FRiSM"
      }
    },
    {
      "cell_type": "code",
      "source": [
        "randomForestClassifier = sklearn.ensemble.RandomForestClassifier()\n",
        "scores = cross_val_score(xgBoostClassfier, X=X_train_pca, y=trainRes, cv=5, n_jobs=1)\n",
        "randomForestClassifier1 = sklearn.ensemble.RandomForestClassifier()\n",
        "scores1 = cross_val_score(xgBoostClassfier1, X=X_train_pca1, y=trainRes1, cv=5, n_jobs=1)\n",
        "randomForestClassifier2 = sklearn.ensemble.RandomForestClassifier()\n",
        "scores2 = cross_val_score(xgBoostClassfier2, X=X_train_pca2, y=trainRes2, cv=5, n_jobs=1)"
      ],
      "metadata": {
        "id": "y9G_s8VfLykO"
      },
      "execution_count": 62,
      "outputs": []
    },
    {
      "cell_type": "code",
      "source": [
        "print('Cross Validation accuracy: %.3f +/- %.3f' % (np.mean(scores),np.std(scores)))\n",
        "print('Cross Validation accuracy: %.3f +/- %.3f' % (np.mean(scores1),np.std(scores1)))\n",
        "print('Cross Validation accuracy: %.3f +/- %.3f' % (np.mean(scores2),np.std(scores2)))"
      ],
      "metadata": {
        "colab": {
          "base_uri": "https://localhost:8080/"
        },
        "id": "VCquntaPL1AB",
        "outputId": "e9aa9c94-e61a-47c8-e2d9-e8a804ff607b"
      },
      "execution_count": 63,
      "outputs": [
        {
          "output_type": "stream",
          "name": "stdout",
          "text": [
            "Cross Validation accuracy: 0.884 +/- 0.029\n",
            "Cross Validation accuracy: 0.907 +/- 0.026\n",
            "Cross Validation accuracy: 0.907 +/- 0.016\n"
          ]
        }
      ]
    },
    {
      "cell_type": "code",
      "source": [
        "randomForestClassifier = sklearn.ensemble.RandomForestClassifier()\n",
        "randomForestClassifier.fit(X_train_pca, trainRes)\n",
        "predictionsRandomForest = randomForestClassifier.predict(X_test_pca)\n",
        "print(classification_report(testRes, predictionsRandomForest))"
      ],
      "metadata": {
        "colab": {
          "base_uri": "https://localhost:8080/"
        },
        "id": "ymvwAobvSxGf",
        "outputId": "59802c45-87c6-45fc-9174-2d16a4ffcb4d"
      },
      "execution_count": 64,
      "outputs": [
        {
          "output_type": "stream",
          "name": "stdout",
          "text": [
            "              precision    recall  f1-score   support\n",
            "\n",
            "           0       0.90      0.92      0.91       105\n",
            "           1       0.91      0.88      0.89        90\n",
            "\n",
            "    accuracy                           0.90       195\n",
            "   macro avg       0.90      0.90      0.90       195\n",
            "weighted avg       0.90      0.90      0.90       195\n",
            "\n"
          ]
        }
      ]
    },
    {
      "cell_type": "code",
      "source": [
        "print(\"Random Forest\")\n",
        "fscore=calculatefscore(testRes,predictionsRandomForest)"
      ],
      "metadata": {
        "colab": {
          "base_uri": "https://localhost:8080/"
        },
        "id": "1tvTrhX8TmNz",
        "outputId": "362c96f3-2d3e-4d1a-c58e-a7ac066d3df5"
      },
      "execution_count": 65,
      "outputs": [
        {
          "output_type": "stream",
          "name": "stdout",
          "text": [
            "Random Forest\n",
            "TP: 79\n",
            "FP: 8\n",
            "FN: 11\n",
            "TN: 97\n"
          ]
        }
      ]
    },
    {
      "cell_type": "code",
      "source": [
        "randomForestClassifier1 = sklearn.ensemble.RandomForestClassifier()\n",
        "randomForestClassifier1.fit(X_train_pca1, trainRes1)\n",
        "predictionsRandomForest1 = randomForestClassifier1.predict(X_test_pca1)\n",
        "print(classification_report(testRes1, predictionsRandomForest1))"
      ],
      "metadata": {
        "colab": {
          "base_uri": "https://localhost:8080/"
        },
        "id": "OAM8EEczFbbr",
        "outputId": "c3351d83-f393-498e-c3c2-697a3313647d"
      },
      "execution_count": 66,
      "outputs": [
        {
          "output_type": "stream",
          "name": "stdout",
          "text": [
            "              precision    recall  f1-score   support\n",
            "\n",
            "           0       0.89      0.91      0.90       105\n",
            "           1       0.90      0.87      0.88        90\n",
            "\n",
            "    accuracy                           0.89       195\n",
            "   macro avg       0.89      0.89      0.89       195\n",
            "weighted avg       0.89      0.89      0.89       195\n",
            "\n"
          ]
        }
      ]
    },
    {
      "cell_type": "code",
      "source": [
        "print(\"Random Forest PCA Feature-2\")\n",
        "fscore=calculatefscore(testRes1,predictionsRandomForest1)"
      ],
      "metadata": {
        "colab": {
          "base_uri": "https://localhost:8080/"
        },
        "id": "iezHOoSLFbNh",
        "outputId": "05a443b1-ae10-448f-b279-1a75acc427d0"
      },
      "execution_count": 67,
      "outputs": [
        {
          "output_type": "stream",
          "name": "stdout",
          "text": [
            "Random Forest PCA Feature-2\n",
            "TP: 78\n",
            "FP: 9\n",
            "FN: 12\n",
            "TN: 96\n"
          ]
        }
      ]
    },
    {
      "cell_type": "code",
      "source": [
        "randomForestClassifier2 = sklearn.ensemble.RandomForestClassifier()\n",
        "randomForestClassifier2.fit(X_train_pca2, trainRes2)\n",
        "predictionsRandomForest2 = randomForestClassifier2.predict(X_test_pca2)\n",
        "print(classification_report(testRes2, predictionsRandomForest2))"
      ],
      "metadata": {
        "colab": {
          "base_uri": "https://localhost:8080/"
        },
        "id": "h98FE8x_Fa9G",
        "outputId": "a0f339d8-768a-432b-d573-5a3920260c1f"
      },
      "execution_count": 68,
      "outputs": [
        {
          "output_type": "stream",
          "name": "stdout",
          "text": [
            "              precision    recall  f1-score   support\n",
            "\n",
            "           0       0.91      0.92      0.92       105\n",
            "           1       0.91      0.89      0.90        90\n",
            "\n",
            "    accuracy                           0.91       195\n",
            "   macro avg       0.91      0.91      0.91       195\n",
            "weighted avg       0.91      0.91      0.91       195\n",
            "\n"
          ]
        }
      ]
    },
    {
      "cell_type": "code",
      "source": [
        "print(\"Random Forest PCA Feature-3\")\n",
        "fscore=calculatefscore(testRes2,predictionsRandomForest2)"
      ],
      "metadata": {
        "colab": {
          "base_uri": "https://localhost:8080/"
        },
        "id": "5vREhlDsFar7",
        "outputId": "e86f79b9-a9ea-4eb7-927a-9cbf8976034a"
      },
      "execution_count": 69,
      "outputs": [
        {
          "output_type": "stream",
          "name": "stdout",
          "text": [
            "Random Forest PCA Feature-3\n",
            "TP: 80\n",
            "FP: 8\n",
            "FN: 10\n",
            "TN: 97\n"
          ]
        }
      ]
    },
    {
      "cell_type": "markdown",
      "source": [
        "# Kernel PCA for Feature Extraction"
      ],
      "metadata": {
        "id": "_rIDqyFdRm5h"
      }
    },
    {
      "cell_type": "code",
      "source": [
        "from sklearn.decomposition import KernelPCA\n",
        "\n",
        "n_components = 10\n",
        "\n",
        "kpca = KernelPCA(n_components=n_components, kernel='rbf', fit_inverse_transform=True).fit(trainSet)\n",
        "kpca1 = KernelPCA(n_components=n_components, kernel='rbf', fit_inverse_transform=True).fit(trainSet1)\n",
        "kpca2 = KernelPCA(n_components=n_components, kernel='rbf', fit_inverse_transform=True).fit(trainSet2)"
      ],
      "metadata": {
        "id": "M1aCRj0XUMmg"
      },
      "execution_count": 70,
      "outputs": []
    },
    {
      "cell_type": "code",
      "source": [
        "X_train_kpca = kpca.transform(trainSet)\n",
        "X_test_kpca = kpca.transform(testSet)\n",
        "X_train_kpca1 = kpca1.transform(trainSet1)\n",
        "X_test_kpca1 = kpca1.transform(testSet1)\n",
        "X_train_kpca2 = kpca2.transform(trainSet2)\n",
        "X_test_kpca2 = kpca2.transform(testSet2)"
      ],
      "metadata": {
        "id": "csBdOwMiUoxQ"
      },
      "execution_count": 71,
      "outputs": []
    },
    {
      "cell_type": "code",
      "source": [
        "fig, ax = matplotlib.pyplot.subplots(1)\n",
        "\n",
        "for i in range(2):\n",
        "    ax.scatter(X_train_kpca[trainRes==i][:,0], X_train_kpca[trainRes==i][:,1], label=[0, 1][i], alpha=0.5)\n",
        "    \n",
        "ax.set_xlabel('PC 1')\n",
        "ax.set_xlabel('PC 2')\n",
        "ax.legend()"
      ],
      "metadata": {
        "colab": {
          "base_uri": "https://localhost:8080/",
          "height": 297
        },
        "id": "Xga5TpvuUwbB",
        "outputId": "3a02fde3-993e-49ad-e1aa-2bcdb6612224"
      },
      "execution_count": 92,
      "outputs": [
        {
          "output_type": "execute_result",
          "data": {
            "text/plain": [
              "<matplotlib.legend.Legend at 0x7f4d1a6536d0>"
            ]
          },
          "metadata": {},
          "execution_count": 92
        },
        {
          "output_type": "display_data",
          "data": {
            "text/plain": [
              "<Figure size 432x288 with 1 Axes>"
            ],
            "image/png": "[encoded data removed]"
          },
          "metadata": {
            "needs_background": "light"
          }
        }
      ]
    },
    {
      "cell_type": "code",
      "source": [
        "fig, ax = matplotlib.pyplot.subplots(1)\n",
        "for i in range(2):\n",
        "    ax.scatter(X_train_kpca1[trainRes1==i][:,0], X_train_kpca1[trainRes1==i][:,1], label=[0, 1][i], alpha=0.5)\n",
        "    \n",
        "ax.set_xlabel('PC 1')\n",
        "ax.set_xlabel('PC 2')\n",
        "ax.legend()"
      ],
      "metadata": {
        "colab": {
          "base_uri": "https://localhost:8080/",
          "height": 297
        },
        "id": "zfNGnxxVHtHO",
        "outputId": "3455a4bc-3349-4766-941a-da2aad4e697e"
      },
      "execution_count": 73,
      "outputs": [
        {
          "output_type": "execute_result",
          "data": {
            "text/plain": [
              "<matplotlib.legend.Legend at 0x7f4d19affa30>"
            ]
          },
          "metadata": {},
          "execution_count": 73
        },
        {
          "output_type": "display_data",
          "data": {
            "text/plain": [
              "<Figure size 432x288 with 1 Axes>"
            ],
            "image/png": "[encoded data removed]"
          },
          "metadata": {
            "needs_background": "light"
          }
        }
      ]
    },
    {
      "cell_type": "code",
      "source": [
        "fig, ax = matplotlib.pyplot.subplots(1)\n",
        "\n",
        "for i in range(2):\n",
        "    ax.scatter(X_train_kpca2[trainRes2==i][:,0], X_train_kpca2[trainRes2==i][:,1], label=[0, 1][i], alpha=0.5)\n",
        "    \n",
        "ax.set_xlabel('PC 1')\n",
        "ax.set_xlabel('PC 2')\n",
        "ax.legend()"
      ],
      "metadata": {
        "colab": {
          "base_uri": "https://localhost:8080/",
          "height": 297
        },
        "id": "_r1HatueHsyp",
        "outputId": "a739e7fb-ca60-4718-b933-ec9aa12d8b54"
      },
      "execution_count": 74,
      "outputs": [
        {
          "output_type": "execute_result",
          "data": {
            "text/plain": [
              "<matplotlib.legend.Legend at 0x7f4d19a62580>"
            ]
          },
          "metadata": {},
          "execution_count": 74
        },
        {
          "output_type": "display_data",
          "data": {
            "text/plain": [
              "<Figure size 432x288 with 1 Axes>"
            ],
            "image/png": "[encoded data removed]"
          },
          "metadata": {
            "needs_background": "light"
          }
        }
      ]
    },
    {
      "cell_type": "markdown",
      "source": [
        "# SVM Classifier with Kernel PCA"
      ],
      "metadata": {
        "id": "HkCHJSfqR0lc"
      }
    },
    {
      "cell_type": "code",
      "source": [
        "svc = SVC(C=10000, kernel='rbf')\n",
        "scores = cross_val_score(svc, X=X_train_kpca, y=trainRes, cv=5, n_jobs=1)\n",
        "svc1 = SVC(C=10000, kernel='rbf')\n",
        "scores1 = cross_val_score(svc1, X=X_train_kpca1, y=trainRes1, cv=5, n_jobs=1)\n",
        "svc2 = SVC(C=10000, kernel='rbf')\n",
        "scores2 = cross_val_score(svc2, X=X_train_kpca2, y=trainRes2, cv=5, n_jobs=1)"
      ],
      "metadata": {
        "id": "7SH_MkmGMEeQ"
      },
      "execution_count": 94,
      "outputs": []
    },
    {
      "cell_type": "code",
      "source": [
        "print('Cross Validation accuracy: %.3f +/- %.3f' % (np.mean(scores),np.std(scores)))\n",
        "print('Cross Validation accuracy: %.3f +/- %.3f' % (np.mean(scores1),np.std(scores1)))\n",
        "print('Cross Validation accuracy: %.3f +/- %.3f' % (np.mean(scores2),np.std(scores2)))"
      ],
      "metadata": {
        "colab": {
          "base_uri": "https://localhost:8080/"
        },
        "id": "OSMdthKJMg2T",
        "outputId": "a2cb6c05-97f8-417d-c318-a2bc0686f380"
      },
      "execution_count": 95,
      "outputs": [
        {
          "output_type": "stream",
          "name": "stdout",
          "text": [
            "Cross Validation accuracy: 0.918 +/- 0.020\n",
            "Cross Validation accuracy: 0.932 +/- 0.010\n",
            "Cross Validation accuracy: 0.955 +/- 0.022\n"
          ]
        }
      ]
    },
    {
      "cell_type": "code",
      "source": [
        "svc = SVC(C=10000, kernel='rbf')\n",
        "svc.fit(X_train_kpca, trainRes)\n",
        "y_pred_svm = svc.predict(X_test_kpca)\n",
        "print(classification_report(testRes, y_pred_svm))"
      ],
      "metadata": {
        "colab": {
          "base_uri": "https://localhost:8080/"
        },
        "id": "oyCeoNugVSGg",
        "outputId": "6c8a25ca-0262-4576-ee26-0a508cec8d0c"
      },
      "execution_count": 96,
      "outputs": [
        {
          "output_type": "stream",
          "name": "stdout",
          "text": [
            "              precision    recall  f1-score   support\n",
            "\n",
            "           0       0.94      0.97      0.95       105\n",
            "           1       0.97      0.92      0.94        90\n",
            "\n",
            "    accuracy                           0.95       195\n",
            "   macro avg       0.95      0.95      0.95       195\n",
            "weighted avg       0.95      0.95      0.95       195\n",
            "\n"
          ]
        }
      ]
    },
    {
      "cell_type": "code",
      "source": [
        "print(\"SVM\")\n",
        "fscore=calculatefscore(testRes,y_pred_svm)"
      ],
      "metadata": {
        "colab": {
          "base_uri": "https://localhost:8080/"
        },
        "id": "D179eKhqVv06",
        "outputId": "b4a6cd79-9acb-4fdc-d17e-0a7ed134a942"
      },
      "execution_count": 97,
      "outputs": [
        {
          "output_type": "stream",
          "name": "stdout",
          "text": [
            "SVM\n",
            "TP: 83\n",
            "FP: 3\n",
            "FN: 7\n",
            "TN: 102\n"
          ]
        }
      ]
    },
    {
      "cell_type": "code",
      "source": [
        "svc1 = SVC(C=10000, kernel='rbf')\n",
        "svc1.fit(X_train_kpca1, trainRes1)\n",
        "y_pred_svm1 = svc1.predict(X_test_kpca1)\n",
        "print(classification_report(testRes1, y_pred_svm1))"
      ],
      "metadata": {
        "colab": {
          "base_uri": "https://localhost:8080/"
        },
        "id": "hGev6ucMI6XC",
        "outputId": "bd40f156-bb20-4f9e-dbe3-a72dd18a71ab"
      },
      "execution_count": 79,
      "outputs": [
        {
          "output_type": "stream",
          "name": "stdout",
          "text": [
            "              precision    recall  f1-score   support\n",
            "\n",
            "           0       0.95      0.95      0.95       105\n",
            "           1       0.94      0.94      0.94        90\n",
            "\n",
            "    accuracy                           0.95       195\n",
            "   macro avg       0.95      0.95      0.95       195\n",
            "weighted avg       0.95      0.95      0.95       195\n",
            "\n"
          ]
        }
      ]
    },
    {
      "cell_type": "code",
      "source": [
        "print(\"SVM Kernel PCA Feature-2\")\n",
        "fscore=calculatefscore(testRes1,y_pred_svm1)"
      ],
      "metadata": {
        "colab": {
          "base_uri": "https://localhost:8080/"
        },
        "id": "iWv5KDq2I6Hs",
        "outputId": "4210c76a-932c-43aa-ac59-afd4e362c381"
      },
      "execution_count": 80,
      "outputs": [
        {
          "output_type": "stream",
          "name": "stdout",
          "text": [
            "SVM Kernel PCA Feature-2\n",
            "TP: 85\n",
            "FP: 5\n",
            "FN: 5\n",
            "TN: 100\n"
          ]
        }
      ]
    },
    {
      "cell_type": "code",
      "source": [
        "svc2 = SVC(C=10000, kernel='rbf')\n",
        "svc2.fit(X_train_kpca2, trainRes2)\n",
        "y_pred_svm2 = svc2.predict(X_test_kpca2)\n",
        "print(classification_report(testRes2, y_pred_svm2))"
      ],
      "metadata": {
        "colab": {
          "base_uri": "https://localhost:8080/"
        },
        "id": "DVU-pZF3I54A",
        "outputId": "d4aa2d5f-2fc2-4203-c91a-31850df0853c"
      },
      "execution_count": 81,
      "outputs": [
        {
          "output_type": "stream",
          "name": "stdout",
          "text": [
            "              precision    recall  f1-score   support\n",
            "\n",
            "           0       0.94      0.97      0.96       105\n",
            "           1       0.97      0.93      0.95        90\n",
            "\n",
            "    accuracy                           0.95       195\n",
            "   macro avg       0.95      0.95      0.95       195\n",
            "weighted avg       0.95      0.95      0.95       195\n",
            "\n"
          ]
        }
      ]
    },
    {
      "cell_type": "code",
      "source": [
        "print(\"SVM Kernel PCA Feature-3\")\n",
        "fscore=calculatefscore(testRes2,y_pred_svm2)"
      ],
      "metadata": {
        "colab": {
          "base_uri": "https://localhost:8080/"
        },
        "id": "geSGJal7I5mu",
        "outputId": "d2bb9644-5c0b-417a-acb7-cda5d9109319"
      },
      "execution_count": 82,
      "outputs": [
        {
          "output_type": "stream",
          "name": "stdout",
          "text": [
            "SVM Kernel PCA Feature-3\n",
            "TP: 84\n",
            "FP: 3\n",
            "FN: 6\n",
            "TN: 102\n"
          ]
        }
      ]
    },
    {
      "cell_type": "markdown",
      "source": [
        "# LightGBM Classifier with Kernel PCA"
      ],
      "metadata": {
        "id": "Vu3zz-crR630"
      }
    },
    {
      "cell_type": "code",
      "source": [
        "lgbmClassifier=lightgbm.LGBMClassifier()\n",
        "scores = cross_val_score(lgbmClassifier, X=X_train_kpca, y=trainRes, cv=5, n_jobs=1)\n",
        "lgbmClassifier1=lightgbm.LGBMClassifier()\n",
        "scores1 = cross_val_score(lgbmClassifier1, X=X_train_kpca1, y=trainRes1, cv=5, n_jobs=1)\n",
        "lgbmClassifier2=lightgbm.LGBMClassifier()\n",
        "scores2 = cross_val_score(lgbmClassifier2, X=X_train_kpca2, y=trainRes2, cv=5, n_jobs=1)"
      ],
      "metadata": {
        "id": "FwIu7aoGM-Np"
      },
      "execution_count": 83,
      "outputs": []
    },
    {
      "cell_type": "code",
      "source": [
        "print('Cross Validation accuracy: %.3f +/- %.3f' % (np.mean(scores),np.std(scores)))\n",
        "print('Cross Validation accuracy: %.3f +/- %.3f' % (np.mean(scores1),np.std(scores1)))\n",
        "print('Cross Validation accuracy: %.3f +/- %.3f' % (np.mean(scores2),np.std(scores2)))"
      ],
      "metadata": {
        "colab": {
          "base_uri": "https://localhost:8080/"
        },
        "id": "9XrBuB0mNKOC",
        "outputId": "3cec34a8-45b3-4a5d-a860-11fda6931d46"
      },
      "execution_count": 84,
      "outputs": [
        {
          "output_type": "stream",
          "name": "stdout",
          "text": [
            "Cross Validation accuracy: 0.940 +/- 0.016\n",
            "Cross Validation accuracy: 0.955 +/- 0.019\n",
            "Cross Validation accuracy: 0.961 +/- 0.017\n"
          ]
        }
      ]
    },
    {
      "cell_type": "code",
      "source": [
        "lgbmClassifier=lightgbm.LGBMClassifier()\n",
        "lgbmClassifier.fit(X_train_kpca, trainRes)\n",
        "predLGBMKpca = lgbmClassifier.predict(X_test_kpca)\n",
        "print(classification_report(testRes, predLGBMKpca))"
      ],
      "metadata": {
        "colab": {
          "base_uri": "https://localhost:8080/"
        },
        "id": "YWVvowX8V-NC",
        "outputId": "a0add916-8541-4252-ab1a-99749ee72f66"
      },
      "execution_count": 85,
      "outputs": [
        {
          "output_type": "stream",
          "name": "stdout",
          "text": [
            "              precision    recall  f1-score   support\n",
            "\n",
            "           0       0.96      0.95      0.96       105\n",
            "           1       0.95      0.96      0.95        90\n",
            "\n",
            "    accuracy                           0.95       195\n",
            "   macro avg       0.95      0.95      0.95       195\n",
            "weighted avg       0.95      0.95      0.95       195\n",
            "\n"
          ]
        }
      ]
    },
    {
      "cell_type": "code",
      "source": [
        "print('LGBM')\n",
        "fscore=calculatefscore(testRes,predLGBMKpca)"
      ],
      "metadata": {
        "colab": {
          "base_uri": "https://localhost:8080/"
        },
        "id": "3Ls1ThQ_WXQ3",
        "outputId": "42d1cdbb-52aa-4c03-d735-744d23031357"
      },
      "execution_count": 86,
      "outputs": [
        {
          "output_type": "stream",
          "name": "stdout",
          "text": [
            "LGBM\n",
            "TP: 86\n",
            "FP: 5\n",
            "FN: 4\n",
            "TN: 100\n"
          ]
        }
      ]
    },
    {
      "cell_type": "code",
      "source": [
        "lgbmClassifier1=lightgbm.LGBMClassifier()\n",
        "lgbmClassifier1.fit(X_train_kpca1, trainRes1)\n",
        "predLGBMKpca1 = lgbmClassifier1.predict(X_test_kpca1)\n",
        "print(classification_report(testRes1, predLGBMKpca1))"
      ],
      "metadata": {
        "colab": {
          "base_uri": "https://localhost:8080/"
        },
        "id": "ZTeWcDMMJ94M",
        "outputId": "450d4aff-083f-4644-d984-e252b573b3e8"
      },
      "execution_count": 87,
      "outputs": [
        {
          "output_type": "stream",
          "name": "stdout",
          "text": [
            "              precision    recall  f1-score   support\n",
            "\n",
            "           0       0.96      0.97      0.97       105\n",
            "           1       0.97      0.96      0.96        90\n",
            "\n",
            "    accuracy                           0.96       195\n",
            "   macro avg       0.96      0.96      0.96       195\n",
            "weighted avg       0.96      0.96      0.96       195\n",
            "\n"
          ]
        }
      ]
    },
    {
      "cell_type": "code",
      "source": [
        "print('LGBM Kernel PCA Feature-2')\n",
        "fscore=calculatefscore(testRes1,predLGBMKpca1)"
      ],
      "metadata": {
        "colab": {
          "base_uri": "https://localhost:8080/"
        },
        "id": "GEMe9fLHJ9sB",
        "outputId": "23236f32-3047-4070-a2ca-b420323eb48d"
      },
      "execution_count": 88,
      "outputs": [
        {
          "output_type": "stream",
          "name": "stdout",
          "text": [
            "LGBM Kernel PCA Feature-2\n",
            "TP: 86\n",
            "FP: 3\n",
            "FN: 4\n",
            "TN: 102\n"
          ]
        }
      ]
    },
    {
      "cell_type": "code",
      "source": [
        "lgbmClassifier2=lightgbm.LGBMClassifier()\n",
        "lgbmClassifier2.fit(X_train_kpca2, trainRes2)\n",
        "predLGBMKpca2 = lgbmClassifier2.predict(X_test_kpca2)\n",
        "print(classification_report(testRes2, predLGBMKpca2))"
      ],
      "metadata": {
        "colab": {
          "base_uri": "https://localhost:8080/"
        },
        "id": "3ey6ZFqjJ9eO",
        "outputId": "1e5a988f-6ebc-4f84-e816-d975486c17cf"
      },
      "execution_count": 89,
      "outputs": [
        {
          "output_type": "stream",
          "name": "stdout",
          "text": [
            "              precision    recall  f1-score   support\n",
            "\n",
            "           0       0.94      0.97      0.95       105\n",
            "           1       0.97      0.92      0.94        90\n",
            "\n",
            "    accuracy                           0.95       195\n",
            "   macro avg       0.95      0.95      0.95       195\n",
            "weighted avg       0.95      0.95      0.95       195\n",
            "\n"
          ]
        }
      ]
    },
    {
      "cell_type": "code",
      "source": [
        "print('LGBM Kernel PCA Feature-3')\n",
        "fscore=calculatefscore(testRes2,predLGBMKpca2)"
      ],
      "metadata": {
        "colab": {
          "base_uri": "https://localhost:8080/"
        },
        "id": "D7kFfKCyJ9PO",
        "outputId": "fba03132-efd6-4b34-b0ff-5ac4d97e5882"
      },
      "execution_count": 90,
      "outputs": [
        {
          "output_type": "stream",
          "name": "stdout",
          "text": [
            "LGBM Kernel PCA Feature-3\n",
            "TP: 83\n",
            "FP: 3\n",
            "FN: 7\n",
            "TN: 102\n"
          ]
        }
      ]
    },
    {
      "cell_type": "markdown",
      "source": [
        "# Decision Tree Classifier with Kernel PCA"
      ],
      "metadata": {
        "id": "eyRKP33MR_a5"
      }
    },
    {
      "cell_type": "code",
      "source": [
        "decisionTreeClassifier=sklearn.tree.DecisionTreeClassifier()\n",
        "scores = cross_val_score(decisionTreeClassifier, X=X_train_kpca, y=trainRes, cv=5, n_jobs=1)\n",
        "decisionTreeClassifier1=sklearn.tree.DecisionTreeClassifier()\n",
        "scores1 = cross_val_score(decisionTreeClassifier1, X=X_train_kpca1, y=trainRes1, cv=5, n_jobs=1)\n",
        "decisionTreeClassifier2=sklearn.tree.DecisionTreeClassifier()\n",
        "scores2 = cross_val_score(decisionTreeClassifier2, X=X_train_kpca2, y=trainRes2, cv=5, n_jobs=1)"
      ],
      "metadata": {
        "id": "ug6EsUcTNlga"
      },
      "execution_count": 98,
      "outputs": []
    },
    {
      "cell_type": "code",
      "source": [
        "print('Cross Validation accuracy: %.3f +/- %.3f' % (np.mean(scores),np.std(scores)))\n",
        "print('Cross Validation accuracy: %.3f +/- %.3f' % (np.mean(scores1),np.std(scores1)))\n",
        "print('Cross Validation accuracy: %.3f +/- %.3f' % (np.mean(scores2),np.std(scores2)))"
      ],
      "metadata": {
        "colab": {
          "base_uri": "https://localhost:8080/"
        },
        "id": "Br3j9bKZOXQd",
        "outputId": "2eada23a-9610-4bc8-9e9c-0e3425fe485f"
      },
      "execution_count": 99,
      "outputs": [
        {
          "output_type": "stream",
          "name": "stdout",
          "text": [
            "Cross Validation accuracy: 0.910 +/- 0.022\n",
            "Cross Validation accuracy: 0.927 +/- 0.024\n",
            "Cross Validation accuracy: 0.933 +/- 0.023\n"
          ]
        }
      ]
    },
    {
      "cell_type": "code",
      "source": [
        "decisionTreeClassifier=sklearn.tree.DecisionTreeClassifier()\n",
        "decisionTreeClassifier.fit(X_train_kpca, trainRes)\n",
        "predDTCKpca = decisionTreeClassifier.predict(X_test_kpca)\n",
        "print(classification_report(testRes, predDTCKpca))"
      ],
      "metadata": {
        "colab": {
          "base_uri": "https://localhost:8080/"
        },
        "id": "EeagmVgzWoS-",
        "outputId": "ba6e90ea-b430-40ac-c267-e959420446f6"
      },
      "execution_count": 100,
      "outputs": [
        {
          "output_type": "stream",
          "name": "stdout",
          "text": [
            "              precision    recall  f1-score   support\n",
            "\n",
            "           0       0.92      0.95      0.93       105\n",
            "           1       0.94      0.90      0.92        90\n",
            "\n",
            "    accuracy                           0.93       195\n",
            "   macro avg       0.93      0.93      0.93       195\n",
            "weighted avg       0.93      0.93      0.93       195\n",
            "\n"
          ]
        }
      ]
    },
    {
      "cell_type": "code",
      "source": [
        "print('Decision Tree Classifier')\n",
        "fscore=calculatefscore(testRes,predDTCKpca)"
      ],
      "metadata": {
        "colab": {
          "base_uri": "https://localhost:8080/"
        },
        "id": "0UmZ8_HTW9wK",
        "outputId": "7487e5eb-c220-458a-f805-ceec296a3dfd"
      },
      "execution_count": 101,
      "outputs": [
        {
          "output_type": "stream",
          "name": "stdout",
          "text": [
            "Decision Tree Classifier\n",
            "TP: 81\n",
            "FP: 5\n",
            "FN: 9\n",
            "TN: 100\n"
          ]
        }
      ]
    },
    {
      "cell_type": "code",
      "source": [
        "decisionTreeClassifier1=sklearn.tree.DecisionTreeClassifier()\n",
        "decisionTreeClassifier1.fit(X_train_kpca1, trainRes1)\n",
        "predDTCKpca1 = decisionTreeClassifier1.predict(X_test_kpca1)\n",
        "print(classification_report(testRes1, predDTCKpca1))"
      ],
      "metadata": {
        "colab": {
          "base_uri": "https://localhost:8080/"
        },
        "id": "aM_yirdQLCDh",
        "outputId": "6d58044e-295b-4518-ec26-1fe3399753b0"
      },
      "execution_count": 102,
      "outputs": [
        {
          "output_type": "stream",
          "name": "stdout",
          "text": [
            "              precision    recall  f1-score   support\n",
            "\n",
            "           0       0.93      0.92      0.93       105\n",
            "           1       0.91      0.92      0.92        90\n",
            "\n",
            "    accuracy                           0.92       195\n",
            "   macro avg       0.92      0.92      0.92       195\n",
            "weighted avg       0.92      0.92      0.92       195\n",
            "\n"
          ]
        }
      ]
    },
    {
      "cell_type": "code",
      "source": [
        "print('Decision Tree Classifier Kernel PCA Feature-2')\n",
        "fscore=calculatefscore(testRes1,predDTCKpca1)"
      ],
      "metadata": {
        "colab": {
          "base_uri": "https://localhost:8080/"
        },
        "id": "LaAoyyNnLB5G",
        "outputId": "5a157905-993e-4c31-a504-05ec9f572a34"
      },
      "execution_count": 103,
      "outputs": [
        {
          "output_type": "stream",
          "name": "stdout",
          "text": [
            "Decision Tree Classifier Kernel PCA Feature-2\n",
            "TP: 83\n",
            "FP: 8\n",
            "FN: 7\n",
            "TN: 97\n"
          ]
        }
      ]
    },
    {
      "cell_type": "code",
      "source": [
        "decisionTreeClassifier2=sklearn.tree.DecisionTreeClassifier()\n",
        "decisionTreeClassifier2.fit(X_train_kpca2, trainRes2)\n",
        "predDTCKpca2 = decisionTreeClassifier2.predict(X_test_kpca2)\n",
        "print(classification_report(testRes2, predDTCKpca2))"
      ],
      "metadata": {
        "colab": {
          "base_uri": "https://localhost:8080/"
        },
        "id": "IlNdCIgMLBrl",
        "outputId": "13d6eb50-84c6-41de-d49a-7b6b026895e2"
      },
      "execution_count": 104,
      "outputs": [
        {
          "output_type": "stream",
          "name": "stdout",
          "text": [
            "              precision    recall  f1-score   support\n",
            "\n",
            "           0       0.94      0.99      0.96       105\n",
            "           1       0.99      0.92      0.95        90\n",
            "\n",
            "    accuracy                           0.96       195\n",
            "   macro avg       0.96      0.96      0.96       195\n",
            "weighted avg       0.96      0.96      0.96       195\n",
            "\n"
          ]
        }
      ]
    },
    {
      "cell_type": "code",
      "source": [
        "print('Decision Tree Classifier Kernel PCA Feature-3')\n",
        "fscore=calculatefscore(testRes2,predDTCKpca2)"
      ],
      "metadata": {
        "colab": {
          "base_uri": "https://localhost:8080/"
        },
        "id": "XxvIhiiGLBf5",
        "outputId": "3543722e-6074-4bc0-d51c-881516fb2dcc"
      },
      "execution_count": 105,
      "outputs": [
        {
          "output_type": "stream",
          "name": "stdout",
          "text": [
            "Decision Tree Classifier Kernel PCA Feature-3\n",
            "TP: 83\n",
            "FP: 1\n",
            "FN: 7\n",
            "TN: 104\n"
          ]
        }
      ]
    },
    {
      "cell_type": "markdown",
      "source": [
        "# XGBoost Classifier with Kernel PCA"
      ],
      "metadata": {
        "id": "GFr9O19kSDgH"
      }
    },
    {
      "cell_type": "code",
      "source": [
        "xgBoostClassfier = xgboost.XGBClassifier()\n",
        "scores = cross_val_score(xgBoostClassfier, X=X_train_kpca, y=trainRes, cv=5, n_jobs=1)\n",
        "xgBoostClassfier1 = xgboost.XGBClassifier()\n",
        "scores1 = cross_val_score(xgBoostClassfier1, X=X_train_kpca1, y=trainRes1, cv=5, n_jobs=1)\n",
        "xgBoostClassfier2 = xgboost.XGBClassifier()\n",
        "scores2 = cross_val_score(xgBoostClassfier2, X=X_train_kpca2, y=trainRes2, cv=5, n_jobs=1)"
      ],
      "metadata": {
        "id": "_LT4J6U5OdAR"
      },
      "execution_count": 106,
      "outputs": []
    },
    {
      "cell_type": "code",
      "source": [
        "print('Cross Validation accuracy: %.3f +/- %.3f' % (np.mean(scores),np.std(scores)))\n",
        "print('Cross Validation accuracy: %.3f +/- %.3f' % (np.mean(scores1),np.std(scores1)))\n",
        "print('Cross Validation accuracy: %.3f +/- %.3f' % (np.mean(scores2),np.std(scores2)))"
      ],
      "metadata": {
        "colab": {
          "base_uri": "https://localhost:8080/"
        },
        "id": "iH2ytDbqOjk7",
        "outputId": "f06f7f48-1467-4e8e-e330-e4097d77cfe9"
      },
      "execution_count": 107,
      "outputs": [
        {
          "output_type": "stream",
          "name": "stdout",
          "text": [
            "Cross Validation accuracy: 0.942 +/- 0.013\n",
            "Cross Validation accuracy: 0.949 +/- 0.014\n",
            "Cross Validation accuracy: 0.960 +/- 0.011\n"
          ]
        }
      ]
    },
    {
      "cell_type": "code",
      "source": [
        "xgBoostClassfier = xgboost.XGBClassifier()\n",
        "xgBoostClassfier.fit(X_train_kpca, trainRes)\n",
        "predictionsXGBoostKpca = xgBoostClassfier.predict(X_test_kpca)\n",
        "print(classification_report(testRes, predictionsXGBoostKpca))"
      ],
      "metadata": {
        "colab": {
          "base_uri": "https://localhost:8080/"
        },
        "id": "R3ptfUP_XDRn",
        "outputId": "00b31d55-a4c7-44e4-8312-089d46112909"
      },
      "execution_count": 108,
      "outputs": [
        {
          "output_type": "stream",
          "name": "stdout",
          "text": [
            "              precision    recall  f1-score   support\n",
            "\n",
            "           0       0.95      0.94      0.95       105\n",
            "           1       0.93      0.94      0.94        90\n",
            "\n",
            "    accuracy                           0.94       195\n",
            "   macro avg       0.94      0.94      0.94       195\n",
            "weighted avg       0.94      0.94      0.94       195\n",
            "\n"
          ]
        }
      ]
    },
    {
      "cell_type": "code",
      "source": [
        "print('XGBoost')\n",
        "fscore=calculatefscore(testRes,predictionsXGBoostKpca)"
      ],
      "metadata": {
        "colab": {
          "base_uri": "https://localhost:8080/"
        },
        "id": "fVmVpoIVXDKs",
        "outputId": "a35244d8-d7d3-4dc5-f778-ea1eb53a10ee"
      },
      "execution_count": 109,
      "outputs": [
        {
          "output_type": "stream",
          "name": "stdout",
          "text": [
            "XGBoost\n",
            "TP: 85\n",
            "FP: 6\n",
            "FN: 5\n",
            "TN: 99\n"
          ]
        }
      ]
    },
    {
      "cell_type": "code",
      "source": [
        "xgBoostClassfier1 = xgboost.XGBClassifier()\n",
        "xgBoostClassfier1.fit(X_train_kpca1, trainRes1)\n",
        "predictionsXGBoostKpca1 = xgBoostClassfier1.predict(X_test_kpca1)\n",
        "print(classification_report(testRes1, predictionsXGBoostKpca1))"
      ],
      "metadata": {
        "colab": {
          "base_uri": "https://localhost:8080/"
        },
        "id": "eB-yqkmzLzPU",
        "outputId": "fdcfcf62-a829-4c84-b010-18c75276ca13"
      },
      "execution_count": 110,
      "outputs": [
        {
          "output_type": "stream",
          "name": "stdout",
          "text": [
            "              precision    recall  f1-score   support\n",
            "\n",
            "           0       0.96      0.95      0.96       105\n",
            "           1       0.95      0.96      0.95        90\n",
            "\n",
            "    accuracy                           0.95       195\n",
            "   macro avg       0.95      0.95      0.95       195\n",
            "weighted avg       0.95      0.95      0.95       195\n",
            "\n"
          ]
        }
      ]
    },
    {
      "cell_type": "code",
      "source": [
        "print('XGBoost Kernel PCA Feature-2')\n",
        "fscore=calculatefscore(testRes1,predictionsXGBoostKpca1)"
      ],
      "metadata": {
        "colab": {
          "base_uri": "https://localhost:8080/"
        },
        "id": "Ac62dqh9LzD0",
        "outputId": "248d215c-f0ed-4dec-d3f5-e81a30e92aa7"
      },
      "execution_count": 111,
      "outputs": [
        {
          "output_type": "stream",
          "name": "stdout",
          "text": [
            "XGBoost Kernel PCA Feature-2\n",
            "TP: 86\n",
            "FP: 5\n",
            "FN: 4\n",
            "TN: 100\n"
          ]
        }
      ]
    },
    {
      "cell_type": "code",
      "source": [
        "xgBoostClassfier2 = xgboost.XGBClassifier()\n",
        "xgBoostClassfier2.fit(X_train_kpca2, trainRes2)\n",
        "predictionsXGBoostKpca2 = xgBoostClassfier2.predict(X_test_kpca2)\n",
        "print(classification_report(testRes2, predictionsXGBoostKpca2))"
      ],
      "metadata": {
        "colab": {
          "base_uri": "https://localhost:8080/"
        },
        "id": "Uca8jgblLy4t",
        "outputId": "45ba9c52-9d33-4baa-e497-231ecf849337"
      },
      "execution_count": 112,
      "outputs": [
        {
          "output_type": "stream",
          "name": "stdout",
          "text": [
            "              precision    recall  f1-score   support\n",
            "\n",
            "           0       0.94      0.98      0.96       105\n",
            "           1       0.98      0.92      0.95        90\n",
            "\n",
            "    accuracy                           0.95       195\n",
            "   macro avg       0.96      0.95      0.95       195\n",
            "weighted avg       0.95      0.95      0.95       195\n",
            "\n"
          ]
        }
      ]
    },
    {
      "cell_type": "code",
      "source": [
        "print('XGBoost Kernel PCA Feature-3')\n",
        "fscore=calculatefscore(testRes2,predictionsXGBoostKpca2)"
      ],
      "metadata": {
        "colab": {
          "base_uri": "https://localhost:8080/"
        },
        "id": "Vt-Yzif5Lyte",
        "outputId": "bed62af9-88c1-45a4-a8cc-d5682da58ed2"
      },
      "execution_count": 113,
      "outputs": [
        {
          "output_type": "stream",
          "name": "stdout",
          "text": [
            "XGBoost Kernel PCA Feature-3\n",
            "TP: 83\n",
            "FP: 2\n",
            "FN: 7\n",
            "TN: 103\n"
          ]
        }
      ]
    },
    {
      "cell_type": "markdown",
      "source": [
        "# Random Forest Classifier with Kernel PCA"
      ],
      "metadata": {
        "id": "df_aBNggSGvi"
      }
    },
    {
      "cell_type": "code",
      "source": [
        "randomForestClassifier = sklearn.ensemble.RandomForestClassifier()\n",
        "scores = cross_val_score(xgBoostClassfier, X=X_train_pca, y=trainRes, cv=5, n_jobs=1)\n",
        "randomForestClassifier1 = sklearn.ensemble.RandomForestClassifier()\n",
        "scores1 = cross_val_score(xgBoostClassfier1, X=X_train_pca1, y=trainRes1, cv=5, n_jobs=1)\n",
        "randomForestClassifier2 = sklearn.ensemble.RandomForestClassifier()\n",
        "scores2 = cross_val_score(xgBoostClassfier2, X=X_train_pca2, y=trainRes2, cv=5, n_jobs=1)"
      ],
      "metadata": {
        "id": "fIE43EO_OzGi"
      },
      "execution_count": 118,
      "outputs": []
    },
    {
      "cell_type": "code",
      "source": [
        "print('Cross Validation accuracy: %.3f +/- %.3f' % (np.mean(scores),np.std(scores)))\n",
        "print('Cross Validation accuracy: %.3f +/- %.3f' % (np.mean(scores1),np.std(scores1)))\n",
        "print('Cross Validation accuracy: %.3f +/- %.3f' % (np.mean(scores2),np.std(scores2)))"
      ],
      "metadata": {
        "colab": {
          "base_uri": "https://localhost:8080/"
        },
        "id": "0vzyKr9iO3qs",
        "outputId": "63f7af46-5b4b-471f-de31-19eca651f08e"
      },
      "execution_count": 119,
      "outputs": [
        {
          "output_type": "stream",
          "name": "stdout",
          "text": [
            "Cross Validation accuracy: 0.884 +/- 0.029\n",
            "Cross Validation accuracy: 0.907 +/- 0.026\n",
            "Cross Validation accuracy: 0.907 +/- 0.016\n"
          ]
        }
      ]
    },
    {
      "cell_type": "code",
      "source": [
        "randomForestClassifier = sklearn.ensemble.RandomForestClassifier()\n",
        "randomForestClassifier.fit(X_train_kpca, trainRes)\n",
        "predictionsRandomForestKpca = randomForestClassifier.predict(X_test_kpca)\n",
        "print(classification_report(testRes, predictionsRandomForestKpca))"
      ],
      "metadata": {
        "colab": {
          "base_uri": "https://localhost:8080/"
        },
        "id": "mvgk0bY2YDfV",
        "outputId": "3c71c348-03f9-4f5a-b0cf-b0c50ab9741a"
      },
      "execution_count": 120,
      "outputs": [
        {
          "output_type": "stream",
          "name": "stdout",
          "text": [
            "              precision    recall  f1-score   support\n",
            "\n",
            "           0       0.95      0.95      0.95       105\n",
            "           1       0.94      0.94      0.94        90\n",
            "\n",
            "    accuracy                           0.95       195\n",
            "   macro avg       0.95      0.95      0.95       195\n",
            "weighted avg       0.95      0.95      0.95       195\n",
            "\n"
          ]
        }
      ]
    },
    {
      "cell_type": "code",
      "source": [
        "print('Random Forest')\n",
        "fscore=calculatefscore(testRes,predictionsRandomForestKpca)"
      ],
      "metadata": {
        "colab": {
          "base_uri": "https://localhost:8080/"
        },
        "id": "N1kXRDcWYEO-",
        "outputId": "cad16a9b-b62b-41f9-b312-674ce6a5f517"
      },
      "execution_count": 121,
      "outputs": [
        {
          "output_type": "stream",
          "name": "stdout",
          "text": [
            "Random Forest\n",
            "TP: 85\n",
            "FP: 5\n",
            "FN: 5\n",
            "TN: 100\n"
          ]
        }
      ]
    },
    {
      "cell_type": "code",
      "source": [
        "randomForestClassifier1 = sklearn.ensemble.RandomForestClassifier()\n",
        "randomForestClassifier1.fit(X_train_kpca1, trainRes1)\n",
        "predictionsRandomForestKpca1 = randomForestClassifier1.predict(X_test_kpca1)\n",
        "print(classification_report(testRes1, predictionsRandomForestKpca1))"
      ],
      "metadata": {
        "colab": {
          "base_uri": "https://localhost:8080/"
        },
        "id": "dti1jg8aMqa0",
        "outputId": "3f18b6ab-203f-4562-a7c4-7b5e75952e6e"
      },
      "execution_count": 122,
      "outputs": [
        {
          "output_type": "stream",
          "name": "stdout",
          "text": [
            "              precision    recall  f1-score   support\n",
            "\n",
            "           0       0.97      0.96      0.97       105\n",
            "           1       0.96      0.97      0.96        90\n",
            "\n",
            "    accuracy                           0.96       195\n",
            "   macro avg       0.96      0.96      0.96       195\n",
            "weighted avg       0.96      0.96      0.96       195\n",
            "\n"
          ]
        }
      ]
    },
    {
      "cell_type": "code",
      "source": [
        "print('Random Forest Kernel PCA Feature-2')\n",
        "fscore=calculatefscore(testRes1,predictionsRandomForestKpca1)"
      ],
      "metadata": {
        "colab": {
          "base_uri": "https://localhost:8080/"
        },
        "id": "OEthSPCmMqMQ",
        "outputId": "0cda3a63-6b80-483a-b1b6-9bf567e1849b"
      },
      "execution_count": 123,
      "outputs": [
        {
          "output_type": "stream",
          "name": "stdout",
          "text": [
            "Random Forest Kernel PCA Feature-2\n",
            "TP: 87\n",
            "FP: 4\n",
            "FN: 3\n",
            "TN: 101\n"
          ]
        }
      ]
    },
    {
      "cell_type": "code",
      "source": [
        "randomForestClassifier2 = sklearn.ensemble.RandomForestClassifier()\n",
        "randomForestClassifier2.fit(X_train_kpca2, trainRes2)\n",
        "predictionsRandomForestKpca2 = randomForestClassifier2.predict(X_test_kpca2)\n",
        "print(classification_report(testRes2, predictionsRandomForestKpca2))"
      ],
      "metadata": {
        "colab": {
          "base_uri": "https://localhost:8080/"
        },
        "id": "__9EPmCkMp_L",
        "outputId": "135a220d-40e3-4c38-d41b-d88a54be66a4"
      },
      "execution_count": 124,
      "outputs": [
        {
          "output_type": "stream",
          "name": "stdout",
          "text": [
            "              precision    recall  f1-score   support\n",
            "\n",
            "           0       0.95      0.98      0.97       105\n",
            "           1       0.98      0.94      0.96        90\n",
            "\n",
            "    accuracy                           0.96       195\n",
            "   macro avg       0.97      0.96      0.96       195\n",
            "weighted avg       0.96      0.96      0.96       195\n",
            "\n"
          ]
        }
      ]
    },
    {
      "cell_type": "code",
      "source": [
        "print('Random Forest Kernel PCA Feature-3')\n",
        "fscore=calculatefscore(testRes2,predictionsRandomForestKpca2)"
      ],
      "metadata": {
        "colab": {
          "base_uri": "https://localhost:8080/"
        },
        "id": "RSgTxd6jMpym",
        "outputId": "c62ba136-f480-4fd7-80e5-7fd81066fdae"
      },
      "execution_count": 125,
      "outputs": [
        {
          "output_type": "stream",
          "name": "stdout",
          "text": [
            "Random Forest Kernel PCA Feature-3\n",
            "TP: 85\n",
            "FP: 2\n",
            "FN: 5\n",
            "TN: 103\n"
          ]
        }
      ]
    }
  ]
}